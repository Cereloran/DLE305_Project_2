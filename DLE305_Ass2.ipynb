{
 "cells": [
  {
   "metadata": {},
   "cell_type": "markdown",
   "source": [
    "# DLE305 Assessment 2\n",
    "## by: Michael A Cuffe\n",
    "# Edit the "
   ],
   "id": "9970530d3215e9d4"
  },
  {
   "metadata": {
    "ExecuteTime": {
     "end_time": "2024-11-05T05:26:30.351778Z",
     "start_time": "2024-11-05T05:26:23.889202Z"
    }
   },
   "cell_type": "code",
   "source": [
    "!pip install -q kaggle > null 2>&1\n",
    "!pip install tensorflow > null 2>&1\n",
    "!pip install numpy > null 2>&1"
   ],
   "id": "dd54bbb118277b4d",
   "outputs": [],
   "execution_count": 8
  },
  {
   "metadata": {},
   "cell_type": "code",
   "source": [
    "import tensorflow as tf\n",
    "from data_loader import load_data\n",
    "from model import build_model\n",
    "from train import train_model\n",
    "from evaluate import evaluate_model, display_results"
   ],
   "id": "55fb176e1b6a45ea",
   "outputs": [],
   "execution_count": null
  },
  {
   "metadata": {},
   "cell_type": "code",
   "outputs": [],
   "execution_count": null,
   "source": "# Edit the code ",
   "id": "69b6223fe5f60d4"
  }
 ],
 "metadata": {
  "kernelspec": {
   "display_name": "Python 3",
   "language": "python",
   "name": "python3"
  },
  "language_info": {
   "codemirror_mode": {
    "name": "ipython",
    "version": 2
   },
   "file_extension": ".py",
   "mimetype": "text/x-python",
   "name": "python",
   "nbconvert_exporter": "python",
   "pygments_lexer": "ipython2",
   "version": "2.7.6"
  }
 },
 "nbformat": 4,
 "nbformat_minor": 5
}

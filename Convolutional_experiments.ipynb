{
 "cells": [
  {
   "metadata": {},
   "cell_type": "markdown",
   "source": [
    "# DLE305 Assessment 2: Convolutional Neural Networks \n",
    "\n",
    "## Student Name: Michael Cuffe\n",
    "## Due Date: 10/11/2024\n",
    "### Description:\n",
    "The goal of this notebook is to experiment with convolutional neural networks and update the code to be more readable. The code will be updated to include comments, and the code will be broken down into smaller, more manageable parts. The code will be tested to ensure that it runs without errors, and the results will be displayed in a clear and concise manner.\n",
    "<br>*I have this setup to run on a jupyter server using my local runtime through my IDE, as such some errors may occur due to this.*\n",
    "#### Dependencies:\n",
    "- Python 3.12\n",
    "\n",
    "The code is based on the following source:\n",
    "- [Github Repo](https://colab.research.google.com/github/learn-co-students/dsc-convolutional-neural-networks-lab-online-ds-ft-100719/blob/master/index.ipynjson)\n",
    "\n"
   ]
  },
  {
   "metadata": {},
   "cell_type": "markdown",
   "source": [
    "### This code cell performs the task of:\n",
    " - installing the necessary libraries using pip. The > null 2>&1 part redirects both the standard output and standard error to null, effectively silencing any output or error messages."
   ]
  },
  {
   "metadata": {},
   "cell_type": "code",
   "source": [
    "!pip install tensorflow > null 2>&1\n",
    "!pip install seaborn > null 2>&1\n",
    "!pip install numpy > null 2>&1\n",
    "!pip install pillow > null 2>&1"
   ],
   "outputs": [],
   "execution_count": 25
  },
  {
   "metadata": {},
   "cell_type": "markdown",
   "source": [
    "### This code cell performs the task of:\n",
    " - importing the necessary libraries."
   ]
  },
  {
   "metadata": {
    "ExecuteTime": {
     "end_time": "2024-11-10T05:27:37.021875Z",
     "start_time": "2024-11-10T05:27:37.017866Z"
    }
   },
   "cell_type": "code",
   "source": [
    "import tensorflow as tf\n",
    "import seaborn as sns\n",
    "import numpy as np\n",
    "from PIL import Image\n",
    "import glob\n",
    "from collections import defaultdict\n",
    "from tensorflow.keras import layers, models, optimizers\n"
   ],
   "outputs": [],
   "execution_count": 26
  },
  {
   "metadata": {},
   "cell_type": "markdown",
   "source": [
    "### This code cell performs the task of:\n",
    " - defining a function `pixels_from_path` that resizes an image to a specified size and converts it to a NumPy array.\n"
   ]
  },
  {
   "cell_type": "code",
   "metadata": {
    "ExecuteTime": {
     "end_time": "2024-11-10T05:27:37.046009Z",
     "start_time": "2024-11-10T05:27:37.040492Z"
    }
   },
   "source": [
    "IMG_SIZE = (94, 125)\n",
    "def pixels_from_path(file_path):\n",
    "    im = Image.open(file_path)\n",
    "    im = im.resize(IMG_SIZE)\n",
    "    np_im = np.array(im)\n",
    "    return np_im"
   ],
   "outputs": [],
   "execution_count": 27
  },
  {
   "metadata": {},
   "cell_type": "markdown",
   "source": [
    "### This code cell performs the task of:\n",
    " - using the glob module to get the file paths of all the images in the cats folder."
   ]
  },
  {
   "cell_type": "code",
   "metadata": {
    "ExecuteTime": {
     "end_time": "2024-11-10T05:27:37.130151Z",
     "start_time": "2024-11-10T05:27:37.081923Z"
    }
   },
   "source": [
    "glob.glob('cats/*')"
   ],
   "outputs": [
    {
     "data": {
      "text/plain": [
       "['cats\\\\cat.0.jpg',\n",
       " 'cats\\\\cat.1.jpg',\n",
       " 'cats\\\\cat.10.jpg',\n",
       " 'cats\\\\cat.100.jpg',\n",
       " 'cats\\\\cat.1000.jpg',\n",
       " 'cats\\\\cat.10000.jpg',\n",
       " 'cats\\\\cat.10001.jpg',\n",
       " 'cats\\\\cat.10002.jpg',\n",
       " 'cats\\\\cat.10003.jpg',\n",
       " 'cats\\\\cat.10004.jpg',\n",
       " 'cats\\\\cat.10005.jpg',\n",
       " 'cats\\\\cat.10006.jpg',\n",
       " 'cats\\\\cat.10007.jpg',\n",
       " 'cats\\\\cat.10008.jpg',\n",
       " 'cats\\\\cat.10009.jpg',\n",
       " 'cats\\\\cat.1001.jpg',\n",
       " 'cats\\\\cat.10010.jpg',\n",
       " 'cats\\\\cat.10011.jpg',\n",
       " 'cats\\\\cat.10012.jpg',\n",
       " 'cats\\\\cat.10013.jpg',\n",
       " 'cats\\\\cat.10014.jpg',\n",
       " 'cats\\\\cat.10015.jpg',\n",
       " 'cats\\\\cat.10016.jpg',\n",
       " 'cats\\\\cat.10017.jpg',\n",
       " 'cats\\\\cat.10018.jpg',\n",
       " 'cats\\\\cat.10019.jpg',\n",
       " 'cats\\\\cat.1002.jpg',\n",
       " 'cats\\\\cat.10020.jpg',\n",
       " 'cats\\\\cat.10021.jpg',\n",
       " 'cats\\\\cat.10022.jpg',\n",
       " 'cats\\\\cat.10023.jpg',\n",
       " 'cats\\\\cat.10024.jpg',\n",
       " 'cats\\\\cat.10025.jpg',\n",
       " 'cats\\\\cat.10026.jpg',\n",
       " 'cats\\\\cat.10027.jpg',\n",
       " 'cats\\\\cat.10028.jpg',\n",
       " 'cats\\\\cat.10029.jpg',\n",
       " 'cats\\\\cat.1003.jpg',\n",
       " 'cats\\\\cat.10030.jpg',\n",
       " 'cats\\\\cat.10031.jpg',\n",
       " 'cats\\\\cat.10032.jpg',\n",
       " 'cats\\\\cat.10033.jpg',\n",
       " 'cats\\\\cat.10034.jpg',\n",
       " 'cats\\\\cat.10035.jpg',\n",
       " 'cats\\\\cat.10036.jpg',\n",
       " 'cats\\\\cat.10037.jpg',\n",
       " 'cats\\\\cat.10038.jpg',\n",
       " 'cats\\\\cat.10039.jpg',\n",
       " 'cats\\\\cat.1004.jpg',\n",
       " 'cats\\\\cat.10040.jpg',\n",
       " 'cats\\\\cat.10041.jpg',\n",
       " 'cats\\\\cat.10042.jpg',\n",
       " 'cats\\\\cat.10043.jpg',\n",
       " 'cats\\\\cat.10044.jpg',\n",
       " 'cats\\\\cat.10045.jpg',\n",
       " 'cats\\\\cat.10046.jpg',\n",
       " 'cats\\\\cat.10047.jpg',\n",
       " 'cats\\\\cat.10048.jpg',\n",
       " 'cats\\\\cat.10049.jpg',\n",
       " 'cats\\\\cat.1005.jpg',\n",
       " 'cats\\\\cat.10050.jpg',\n",
       " 'cats\\\\cat.10051.jpg',\n",
       " 'cats\\\\cat.10052.jpg',\n",
       " 'cats\\\\cat.10053.jpg',\n",
       " 'cats\\\\cat.10054.jpg',\n",
       " 'cats\\\\cat.10055.jpg',\n",
       " 'cats\\\\cat.10056.jpg',\n",
       " 'cats\\\\cat.10057.jpg',\n",
       " 'cats\\\\cat.10058.jpg',\n",
       " 'cats\\\\cat.10059.jpg',\n",
       " 'cats\\\\cat.1006.jpg',\n",
       " 'cats\\\\cat.10060.jpg',\n",
       " 'cats\\\\cat.10061.jpg',\n",
       " 'cats\\\\cat.10062.jpg',\n",
       " 'cats\\\\cat.10063.jpg',\n",
       " 'cats\\\\cat.10064.jpg',\n",
       " 'cats\\\\cat.10065.jpg',\n",
       " 'cats\\\\cat.10066.jpg',\n",
       " 'cats\\\\cat.10067.jpg',\n",
       " 'cats\\\\cat.10068.jpg',\n",
       " 'cats\\\\cat.10069.jpg',\n",
       " 'cats\\\\cat.1007.jpg',\n",
       " 'cats\\\\cat.10070.jpg',\n",
       " 'cats\\\\cat.10071.jpg',\n",
       " 'cats\\\\cat.10072.jpg',\n",
       " 'cats\\\\cat.10073.jpg',\n",
       " 'cats\\\\cat.10074.jpg',\n",
       " 'cats\\\\cat.10075.jpg',\n",
       " 'cats\\\\cat.10076.jpg',\n",
       " 'cats\\\\cat.10077.jpg',\n",
       " 'cats\\\\cat.10078.jpg',\n",
       " 'cats\\\\cat.10079.jpg',\n",
       " 'cats\\\\cat.1008.jpg',\n",
       " 'cats\\\\cat.10080.jpg',\n",
       " 'cats\\\\cat.10081.jpg',\n",
       " 'cats\\\\cat.10082.jpg',\n",
       " 'cats\\\\cat.10083.jpg',\n",
       " 'cats\\\\cat.10084.jpg',\n",
       " 'cats\\\\cat.10085.jpg',\n",
       " 'cats\\\\cat.10086.jpg',\n",
       " 'cats\\\\cat.10087.jpg',\n",
       " 'cats\\\\cat.10088.jpg',\n",
       " 'cats\\\\cat.10089.jpg',\n",
       " 'cats\\\\cat.1009.jpg',\n",
       " 'cats\\\\cat.10090.jpg',\n",
       " 'cats\\\\cat.10091.jpg',\n",
       " 'cats\\\\cat.10092.jpg',\n",
       " 'cats\\\\cat.10093.jpg',\n",
       " 'cats\\\\cat.10094.jpg',\n",
       " 'cats\\\\cat.10095.jpg',\n",
       " 'cats\\\\cat.10096.jpg',\n",
       " 'cats\\\\cat.10097.jpg',\n",
       " 'cats\\\\cat.10098.jpg',\n",
       " 'cats\\\\cat.10099.jpg',\n",
       " 'cats\\\\cat.101.jpg',\n",
       " 'cats\\\\cat.1010.jpg',\n",
       " 'cats\\\\cat.10100.jpg',\n",
       " 'cats\\\\cat.10101.jpg',\n",
       " 'cats\\\\cat.10102.jpg',\n",
       " 'cats\\\\cat.10103.jpg',\n",
       " 'cats\\\\cat.10104.jpg',\n",
       " 'cats\\\\cat.10105.jpg',\n",
       " 'cats\\\\cat.10106.jpg',\n",
       " 'cats\\\\cat.10107.jpg',\n",
       " 'cats\\\\cat.10108.jpg',\n",
       " 'cats\\\\cat.10109.jpg',\n",
       " 'cats\\\\cat.1011.jpg',\n",
       " 'cats\\\\cat.10110.jpg',\n",
       " 'cats\\\\cat.10111.jpg',\n",
       " 'cats\\\\cat.10112.jpg',\n",
       " 'cats\\\\cat.10113.jpg',\n",
       " 'cats\\\\cat.10114.jpg',\n",
       " 'cats\\\\cat.10115.jpg',\n",
       " 'cats\\\\cat.10116.jpg',\n",
       " 'cats\\\\cat.10117.jpg',\n",
       " 'cats\\\\cat.10118.jpg',\n",
       " 'cats\\\\cat.10119.jpg',\n",
       " 'cats\\\\cat.1012.jpg',\n",
       " 'cats\\\\cat.10120.jpg',\n",
       " 'cats\\\\cat.10121.jpg',\n",
       " 'cats\\\\cat.10122.jpg',\n",
       " 'cats\\\\cat.10123.jpg',\n",
       " 'cats\\\\cat.10124.jpg',\n",
       " 'cats\\\\cat.10125.jpg',\n",
       " 'cats\\\\cat.10126.jpg',\n",
       " 'cats\\\\cat.10127.jpg',\n",
       " 'cats\\\\cat.10128.jpg',\n",
       " 'cats\\\\cat.10129.jpg',\n",
       " 'cats\\\\cat.1013.jpg',\n",
       " 'cats\\\\cat.10130.jpg',\n",
       " 'cats\\\\cat.10131.jpg',\n",
       " 'cats\\\\cat.10132.jpg',\n",
       " 'cats\\\\cat.10133.jpg',\n",
       " 'cats\\\\cat.10134.jpg',\n",
       " 'cats\\\\cat.10135.jpg',\n",
       " 'cats\\\\cat.10136.jpg',\n",
       " 'cats\\\\cat.10137.jpg',\n",
       " 'cats\\\\cat.10138.jpg',\n",
       " 'cats\\\\cat.10139.jpg',\n",
       " 'cats\\\\cat.1014.jpg',\n",
       " 'cats\\\\cat.10140.jpg',\n",
       " 'cats\\\\cat.10141.jpg',\n",
       " 'cats\\\\cat.10142.jpg',\n",
       " 'cats\\\\cat.10143.jpg',\n",
       " 'cats\\\\cat.10144.jpg',\n",
       " 'cats\\\\cat.10145.jpg',\n",
       " 'cats\\\\cat.10146.jpg',\n",
       " 'cats\\\\cat.10147.jpg',\n",
       " 'cats\\\\cat.10148.jpg',\n",
       " 'cats\\\\cat.10149.jpg',\n",
       " 'cats\\\\cat.1015.jpg',\n",
       " 'cats\\\\cat.10150.jpg',\n",
       " 'cats\\\\cat.10151.jpg',\n",
       " 'cats\\\\cat.10152.jpg',\n",
       " 'cats\\\\cat.10153.jpg',\n",
       " 'cats\\\\cat.10154.jpg',\n",
       " 'cats\\\\cat.10155.jpg',\n",
       " 'cats\\\\cat.10156.jpg',\n",
       " 'cats\\\\cat.10157.jpg',\n",
       " 'cats\\\\cat.10158.jpg',\n",
       " 'cats\\\\cat.10159.jpg',\n",
       " 'cats\\\\cat.1016.jpg',\n",
       " 'cats\\\\cat.10160.jpg',\n",
       " 'cats\\\\cat.10161.jpg',\n",
       " 'cats\\\\cat.10162.jpg',\n",
       " 'cats\\\\cat.10163.jpg',\n",
       " 'cats\\\\cat.10164.jpg',\n",
       " 'cats\\\\cat.10165.jpg',\n",
       " 'cats\\\\cat.10166.jpg',\n",
       " 'cats\\\\cat.10167.jpg',\n",
       " 'cats\\\\cat.10168.jpg',\n",
       " 'cats\\\\cat.10169.jpg',\n",
       " 'cats\\\\cat.1017.jpg',\n",
       " 'cats\\\\cat.10170.jpg',\n",
       " 'cats\\\\cat.10171.jpg',\n",
       " 'cats\\\\cat.10172.jpg',\n",
       " 'cats\\\\cat.10173.jpg',\n",
       " 'cats\\\\cat.10174.jpg',\n",
       " 'cats\\\\cat.10175.jpg',\n",
       " 'cats\\\\cat.10176.jpg',\n",
       " 'cats\\\\cat.10177.jpg',\n",
       " 'cats\\\\cat.10178.jpg',\n",
       " 'cats\\\\cat.10179.jpg',\n",
       " 'cats\\\\cat.1018.jpg',\n",
       " 'cats\\\\cat.10180.jpg',\n",
       " 'cats\\\\cat.10181.jpg',\n",
       " 'cats\\\\cat.10182.jpg',\n",
       " 'cats\\\\cat.10183.jpg',\n",
       " 'cats\\\\cat.10184.jpg',\n",
       " 'cats\\\\cat.10185.jpg',\n",
       " 'cats\\\\cat.10186.jpg',\n",
       " 'cats\\\\cat.10187.jpg',\n",
       " 'cats\\\\cat.10188.jpg',\n",
       " 'cats\\\\cat.10189.jpg',\n",
       " 'cats\\\\cat.1019.jpg',\n",
       " 'cats\\\\cat.10190.jpg',\n",
       " 'cats\\\\cat.10191.jpg',\n",
       " 'cats\\\\cat.10192.jpg',\n",
       " 'cats\\\\cat.10193.jpg',\n",
       " 'cats\\\\cat.10194.jpg',\n",
       " 'cats\\\\cat.10195.jpg',\n",
       " 'cats\\\\cat.10196.jpg',\n",
       " 'cats\\\\cat.10197.jpg',\n",
       " 'cats\\\\cat.10198.jpg',\n",
       " 'cats\\\\cat.10199.jpg',\n",
       " 'cats\\\\cat.102.jpg',\n",
       " 'cats\\\\cat.1020.jpg',\n",
       " 'cats\\\\cat.10200.jpg',\n",
       " 'cats\\\\cat.10201.jpg',\n",
       " 'cats\\\\cat.10202.jpg',\n",
       " 'cats\\\\cat.10203.jpg',\n",
       " 'cats\\\\cat.10204.jpg',\n",
       " 'cats\\\\cat.10205.jpg',\n",
       " 'cats\\\\cat.10206.jpg',\n",
       " 'cats\\\\cat.10207.jpg',\n",
       " 'cats\\\\cat.10208.jpg',\n",
       " 'cats\\\\cat.10209.jpg',\n",
       " 'cats\\\\cat.1021.jpg',\n",
       " 'cats\\\\cat.10210.jpg',\n",
       " 'cats\\\\cat.10211.jpg',\n",
       " 'cats\\\\cat.10212.jpg',\n",
       " 'cats\\\\cat.10213.jpg',\n",
       " 'cats\\\\cat.10214.jpg',\n",
       " 'cats\\\\cat.10215.jpg',\n",
       " 'cats\\\\cat.10216.jpg',\n",
       " 'cats\\\\cat.10217.jpg',\n",
       " 'cats\\\\cat.10218.jpg',\n",
       " 'cats\\\\cat.10219.jpg',\n",
       " 'cats\\\\cat.1022.jpg',\n",
       " 'cats\\\\cat.10220.jpg',\n",
       " 'cats\\\\cat.10221.jpg',\n",
       " 'cats\\\\cat.10222.jpg',\n",
       " 'cats\\\\cat.10223.jpg',\n",
       " 'cats\\\\cat.10224.jpg',\n",
       " 'cats\\\\cat.10225.jpg',\n",
       " 'cats\\\\cat.10226.jpg',\n",
       " 'cats\\\\cat.10227.jpg',\n",
       " 'cats\\\\cat.10228.jpg',\n",
       " 'cats\\\\cat.10229.jpg',\n",
       " 'cats\\\\cat.1023.jpg',\n",
       " 'cats\\\\cat.10230.jpg',\n",
       " 'cats\\\\cat.10231.jpg',\n",
       " 'cats\\\\cat.10232.jpg',\n",
       " 'cats\\\\cat.10233.jpg',\n",
       " 'cats\\\\cat.10234.jpg',\n",
       " 'cats\\\\cat.10235.jpg',\n",
       " 'cats\\\\cat.10236.jpg',\n",
       " 'cats\\\\cat.10237.jpg',\n",
       " 'cats\\\\cat.10238.jpg',\n",
       " 'cats\\\\cat.10239.jpg',\n",
       " 'cats\\\\cat.1024.jpg',\n",
       " 'cats\\\\cat.10240.jpg',\n",
       " 'cats\\\\cat.10241.jpg',\n",
       " 'cats\\\\cat.10242.jpg',\n",
       " 'cats\\\\cat.10243.jpg',\n",
       " 'cats\\\\cat.10244.jpg',\n",
       " 'cats\\\\cat.10245.jpg',\n",
       " 'cats\\\\cat.10246.jpg',\n",
       " 'cats\\\\cat.10247.jpg',\n",
       " 'cats\\\\cat.10248.jpg',\n",
       " 'cats\\\\cat.10249.jpg',\n",
       " 'cats\\\\cat.1025.jpg',\n",
       " 'cats\\\\cat.10250.jpg',\n",
       " 'cats\\\\cat.10251.jpg',\n",
       " 'cats\\\\cat.10252.jpg',\n",
       " 'cats\\\\cat.10253.jpg',\n",
       " 'cats\\\\cat.10254.jpg',\n",
       " 'cats\\\\cat.10255.jpg',\n",
       " 'cats\\\\cat.10256.jpg',\n",
       " 'cats\\\\cat.10257.jpg',\n",
       " 'cats\\\\cat.10258.jpg',\n",
       " 'cats\\\\cat.10259.jpg',\n",
       " 'cats\\\\cat.1026.jpg',\n",
       " 'cats\\\\cat.10260.jpg',\n",
       " 'cats\\\\cat.10261.jpg',\n",
       " 'cats\\\\cat.10262.jpg',\n",
       " 'cats\\\\cat.10263.jpg',\n",
       " 'cats\\\\cat.10264.jpg',\n",
       " 'cats\\\\cat.10265.jpg',\n",
       " 'cats\\\\cat.10266.jpg',\n",
       " 'cats\\\\cat.10267.jpg',\n",
       " 'cats\\\\cat.10268.jpg',\n",
       " 'cats\\\\cat.10269.jpg',\n",
       " 'cats\\\\cat.1027.jpg',\n",
       " 'cats\\\\cat.10270.jpg',\n",
       " 'cats\\\\cat.10271.jpg',\n",
       " 'cats\\\\cat.10272.jpg',\n",
       " 'cats\\\\cat.10273.jpg',\n",
       " 'cats\\\\cat.10274.jpg',\n",
       " 'cats\\\\cat.10275.jpg',\n",
       " 'cats\\\\cat.10276.jpg',\n",
       " 'cats\\\\cat.10277.jpg',\n",
       " 'cats\\\\cat.10278.jpg',\n",
       " 'cats\\\\cat.10279.jpg',\n",
       " 'cats\\\\cat.1028.jpg',\n",
       " 'cats\\\\cat.10280.jpg',\n",
       " 'cats\\\\cat.10281.jpg',\n",
       " 'cats\\\\cat.10282.jpg',\n",
       " 'cats\\\\cat.10283.jpg',\n",
       " 'cats\\\\cat.10284.jpg',\n",
       " 'cats\\\\cat.10285.jpg',\n",
       " 'cats\\\\cat.10286.jpg',\n",
       " 'cats\\\\cat.10287.jpg',\n",
       " 'cats\\\\cat.10288.jpg',\n",
       " 'cats\\\\cat.10289.jpg',\n",
       " 'cats\\\\cat.1029.jpg',\n",
       " 'cats\\\\cat.10290.jpg',\n",
       " 'cats\\\\cat.10291.jpg',\n",
       " 'cats\\\\cat.10292.jpg',\n",
       " 'cats\\\\cat.10293.jpg',\n",
       " 'cats\\\\cat.10294.jpg',\n",
       " 'cats\\\\cat.10295.jpg',\n",
       " 'cats\\\\cat.10296.jpg',\n",
       " 'cats\\\\cat.10297.jpg',\n",
       " 'cats\\\\cat.10298.jpg',\n",
       " 'cats\\\\cat.10299.jpg',\n",
       " 'cats\\\\cat.103.jpg',\n",
       " 'cats\\\\cat.1030.jpg',\n",
       " 'cats\\\\cat.10300.jpg',\n",
       " 'cats\\\\cat.10301.jpg',\n",
       " 'cats\\\\cat.10302.jpg',\n",
       " 'cats\\\\cat.10303.jpg',\n",
       " 'cats\\\\cat.10304.jpg',\n",
       " 'cats\\\\cat.10305.jpg',\n",
       " 'cats\\\\cat.10306.jpg',\n",
       " 'cats\\\\cat.10307.jpg',\n",
       " 'cats\\\\cat.10308.jpg',\n",
       " 'cats\\\\cat.10309.jpg',\n",
       " 'cats\\\\cat.1031.jpg',\n",
       " 'cats\\\\cat.10310.jpg',\n",
       " 'cats\\\\cat.10311.jpg',\n",
       " 'cats\\\\cat.10312.jpg',\n",
       " 'cats\\\\cat.10313.jpg',\n",
       " 'cats\\\\cat.10314.jpg',\n",
       " 'cats\\\\cat.10315.jpg',\n",
       " 'cats\\\\cat.10316.jpg',\n",
       " 'cats\\\\cat.10317.jpg',\n",
       " 'cats\\\\cat.10318.jpg',\n",
       " 'cats\\\\cat.10319.jpg',\n",
       " 'cats\\\\cat.1032.jpg',\n",
       " 'cats\\\\cat.10320.jpg',\n",
       " 'cats\\\\cat.10321.jpg',\n",
       " 'cats\\\\cat.10322.jpg',\n",
       " 'cats\\\\cat.10323.jpg',\n",
       " 'cats\\\\cat.10324.jpg',\n",
       " 'cats\\\\cat.10325.jpg',\n",
       " 'cats\\\\cat.10326.jpg',\n",
       " 'cats\\\\cat.10327.jpg',\n",
       " 'cats\\\\cat.10328.jpg',\n",
       " 'cats\\\\cat.10329.jpg',\n",
       " 'cats\\\\cat.1033.jpg',\n",
       " 'cats\\\\cat.10330.jpg',\n",
       " 'cats\\\\cat.10331.jpg',\n",
       " 'cats\\\\cat.10332.jpg',\n",
       " 'cats\\\\cat.10333.jpg',\n",
       " 'cats\\\\cat.10334.jpg',\n",
       " 'cats\\\\cat.10335.jpg',\n",
       " 'cats\\\\cat.10336.jpg',\n",
       " 'cats\\\\cat.10337.jpg',\n",
       " 'cats\\\\cat.10338.jpg',\n",
       " 'cats\\\\cat.10339.jpg',\n",
       " 'cats\\\\cat.1034.jpg',\n",
       " 'cats\\\\cat.10340.jpg',\n",
       " 'cats\\\\cat.10341.jpg',\n",
       " 'cats\\\\cat.10342.jpg',\n",
       " 'cats\\\\cat.10343.jpg',\n",
       " 'cats\\\\cat.10344.jpg',\n",
       " 'cats\\\\cat.10345.jpg',\n",
       " 'cats\\\\cat.10346.jpg',\n",
       " 'cats\\\\cat.10347.jpg',\n",
       " 'cats\\\\cat.10348.jpg',\n",
       " 'cats\\\\cat.10349.jpg',\n",
       " 'cats\\\\cat.1035.jpg',\n",
       " 'cats\\\\cat.10350.jpg',\n",
       " 'cats\\\\cat.10351.jpg',\n",
       " 'cats\\\\cat.10352.jpg',\n",
       " 'cats\\\\cat.10353.jpg',\n",
       " 'cats\\\\cat.10354.jpg',\n",
       " 'cats\\\\cat.10355.jpg',\n",
       " 'cats\\\\cat.10356.jpg',\n",
       " 'cats\\\\cat.10357.jpg',\n",
       " 'cats\\\\cat.10358.jpg',\n",
       " 'cats\\\\cat.10359.jpg',\n",
       " 'cats\\\\cat.1036.jpg',\n",
       " 'cats\\\\cat.10360.jpg',\n",
       " 'cats\\\\cat.10361.jpg',\n",
       " 'cats\\\\cat.10362.jpg',\n",
       " 'cats\\\\cat.10363.jpg',\n",
       " 'cats\\\\cat.10364.jpg',\n",
       " 'cats\\\\cat.10365.jpg',\n",
       " 'cats\\\\cat.10366.jpg',\n",
       " 'cats\\\\cat.10367.jpg',\n",
       " 'cats\\\\cat.10368.jpg',\n",
       " 'cats\\\\cat.10369.jpg',\n",
       " 'cats\\\\cat.1037.jpg',\n",
       " 'cats\\\\cat.10370.jpg',\n",
       " 'cats\\\\cat.10371.jpg',\n",
       " 'cats\\\\cat.10372.jpg',\n",
       " 'cats\\\\cat.10373.jpg',\n",
       " 'cats\\\\cat.10374.jpg',\n",
       " 'cats\\\\cat.10375.jpg',\n",
       " 'cats\\\\cat.10376.jpg',\n",
       " 'cats\\\\cat.10377.jpg',\n",
       " 'cats\\\\cat.10378.jpg',\n",
       " 'cats\\\\cat.10379.jpg',\n",
       " 'cats\\\\cat.1038.jpg',\n",
       " 'cats\\\\cat.10380.jpg',\n",
       " 'cats\\\\cat.10381.jpg',\n",
       " 'cats\\\\cat.10382.jpg',\n",
       " 'cats\\\\cat.10383.jpg',\n",
       " 'cats\\\\cat.10384.jpg',\n",
       " 'cats\\\\cat.10385.jpg',\n",
       " 'cats\\\\cat.10386.jpg',\n",
       " 'cats\\\\cat.10387.jpg',\n",
       " 'cats\\\\cat.10388.jpg',\n",
       " 'cats\\\\cat.10389.jpg',\n",
       " 'cats\\\\cat.1039.jpg',\n",
       " 'cats\\\\cat.10390.jpg',\n",
       " 'cats\\\\cat.10391.jpg',\n",
       " 'cats\\\\cat.10392.jpg',\n",
       " 'cats\\\\cat.10393.jpg',\n",
       " 'cats\\\\cat.10394.jpg',\n",
       " 'cats\\\\cat.10395.jpg',\n",
       " 'cats\\\\cat.10396.jpg',\n",
       " 'cats\\\\cat.10397.jpg',\n",
       " 'cats\\\\cat.10398.jpg',\n",
       " 'cats\\\\cat.10399.jpg',\n",
       " 'cats\\\\cat.104.jpg',\n",
       " 'cats\\\\cat.1040.jpg',\n",
       " 'cats\\\\cat.10400.jpg',\n",
       " 'cats\\\\cat.10401.jpg',\n",
       " 'cats\\\\cat.10402.jpg',\n",
       " 'cats\\\\cat.10403.jpg',\n",
       " 'cats\\\\cat.10404.jpg',\n",
       " 'cats\\\\cat.10405.jpg',\n",
       " 'cats\\\\cat.10406.jpg',\n",
       " 'cats\\\\cat.10407.jpg',\n",
       " 'cats\\\\cat.10408.jpg',\n",
       " 'cats\\\\cat.10409.jpg',\n",
       " 'cats\\\\cat.1041.jpg',\n",
       " 'cats\\\\cat.10410.jpg',\n",
       " 'cats\\\\cat.10411.jpg',\n",
       " 'cats\\\\cat.10412.jpg',\n",
       " 'cats\\\\cat.10413.jpg',\n",
       " 'cats\\\\cat.10414.jpg',\n",
       " 'cats\\\\cat.10415.jpg',\n",
       " 'cats\\\\cat.10416.jpg',\n",
       " 'cats\\\\cat.10417.jpg',\n",
       " 'cats\\\\cat.10418.jpg',\n",
       " 'cats\\\\cat.10419.jpg',\n",
       " 'cats\\\\cat.1042.jpg',\n",
       " 'cats\\\\cat.10420.jpg',\n",
       " 'cats\\\\cat.10421.jpg',\n",
       " 'cats\\\\cat.10422.jpg',\n",
       " 'cats\\\\cat.10423.jpg',\n",
       " 'cats\\\\cat.10424.jpg',\n",
       " 'cats\\\\cat.10425.jpg',\n",
       " 'cats\\\\cat.10426.jpg',\n",
       " 'cats\\\\cat.10427.jpg',\n",
       " 'cats\\\\cat.10428.jpg',\n",
       " 'cats\\\\cat.10429.jpg',\n",
       " 'cats\\\\cat.1043.jpg',\n",
       " 'cats\\\\cat.10430.jpg',\n",
       " 'cats\\\\cat.10431.jpg',\n",
       " 'cats\\\\cat.10432.jpg',\n",
       " 'cats\\\\cat.10433.jpg',\n",
       " 'cats\\\\cat.10434.jpg',\n",
       " 'cats\\\\cat.10435.jpg',\n",
       " 'cats\\\\cat.10436.jpg',\n",
       " 'cats\\\\cat.10437.jpg',\n",
       " 'cats\\\\cat.10438.jpg',\n",
       " 'cats\\\\cat.10439.jpg',\n",
       " 'cats\\\\cat.1044.jpg',\n",
       " 'cats\\\\cat.10440.jpg',\n",
       " 'cats\\\\cat.10441.jpg',\n",
       " 'cats\\\\cat.10442.jpg',\n",
       " 'cats\\\\cat.10443.jpg',\n",
       " 'cats\\\\cat.10444.jpg',\n",
       " 'cats\\\\cat.10445.jpg',\n",
       " 'cats\\\\cat.10446.jpg',\n",
       " 'cats\\\\cat.10447.jpg',\n",
       " 'cats\\\\cat.10448.jpg',\n",
       " 'cats\\\\cat.10449.jpg',\n",
       " 'cats\\\\cat.1045.jpg',\n",
       " 'cats\\\\cat.10450.jpg',\n",
       " 'cats\\\\cat.10451.jpg',\n",
       " 'cats\\\\cat.10452.jpg',\n",
       " 'cats\\\\cat.10453.jpg',\n",
       " 'cats\\\\cat.10454.jpg',\n",
       " 'cats\\\\cat.10455.jpg',\n",
       " 'cats\\\\cat.10456.jpg',\n",
       " 'cats\\\\cat.10457.jpg',\n",
       " 'cats\\\\cat.10458.jpg',\n",
       " 'cats\\\\cat.10459.jpg',\n",
       " 'cats\\\\cat.1046.jpg',\n",
       " 'cats\\\\cat.10460.jpg',\n",
       " 'cats\\\\cat.10461.jpg',\n",
       " 'cats\\\\cat.10462.jpg',\n",
       " 'cats\\\\cat.10463.jpg',\n",
       " 'cats\\\\cat.10464.jpg',\n",
       " 'cats\\\\cat.10465.jpg',\n",
       " 'cats\\\\cat.10466.jpg',\n",
       " 'cats\\\\cat.10467.jpg',\n",
       " 'cats\\\\cat.10468.jpg',\n",
       " 'cats\\\\cat.10469.jpg',\n",
       " 'cats\\\\cat.1047.jpg',\n",
       " 'cats\\\\cat.10470.jpg',\n",
       " 'cats\\\\cat.10471.jpg',\n",
       " 'cats\\\\cat.10472.jpg',\n",
       " 'cats\\\\cat.10473.jpg',\n",
       " 'cats\\\\cat.10474.jpg',\n",
       " 'cats\\\\cat.10475.jpg',\n",
       " 'cats\\\\cat.10476.jpg',\n",
       " 'cats\\\\cat.10477.jpg',\n",
       " 'cats\\\\cat.10478.jpg',\n",
       " 'cats\\\\cat.10479.jpg',\n",
       " 'cats\\\\cat.1048.jpg',\n",
       " 'cats\\\\cat.10480.jpg',\n",
       " 'cats\\\\cat.10481.jpg',\n",
       " 'cats\\\\cat.10482.jpg',\n",
       " 'cats\\\\cat.10483.jpg',\n",
       " 'cats\\\\cat.10484.jpg',\n",
       " 'cats\\\\cat.10485.jpg',\n",
       " 'cats\\\\cat.10486.jpg',\n",
       " 'cats\\\\cat.10487.jpg',\n",
       " 'cats\\\\cat.10488.jpg',\n",
       " 'cats\\\\cat.10489.jpg',\n",
       " 'cats\\\\cat.1049.jpg',\n",
       " 'cats\\\\cat.10490.jpg',\n",
       " 'cats\\\\cat.10491.jpg',\n",
       " 'cats\\\\cat.10492.jpg',\n",
       " 'cats\\\\cat.10493.jpg',\n",
       " 'cats\\\\cat.10494.jpg',\n",
       " 'cats\\\\cat.10495.jpg',\n",
       " 'cats\\\\cat.10496.jpg',\n",
       " 'cats\\\\cat.10497.jpg',\n",
       " 'cats\\\\cat.10498.jpg',\n",
       " 'cats\\\\cat.10499.jpg',\n",
       " 'cats\\\\cat.105.jpg',\n",
       " 'cats\\\\cat.1050.jpg',\n",
       " 'cats\\\\cat.10500.jpg',\n",
       " 'cats\\\\cat.10501.jpg',\n",
       " 'cats\\\\cat.10502.jpg',\n",
       " 'cats\\\\cat.10503.jpg',\n",
       " 'cats\\\\cat.10504.jpg',\n",
       " 'cats\\\\cat.10505.jpg',\n",
       " 'cats\\\\cat.10506.jpg',\n",
       " 'cats\\\\cat.10507.jpg',\n",
       " 'cats\\\\cat.10508.jpg',\n",
       " 'cats\\\\cat.10509.jpg',\n",
       " 'cats\\\\cat.1051.jpg',\n",
       " 'cats\\\\cat.10510.jpg',\n",
       " 'cats\\\\cat.10511.jpg',\n",
       " 'cats\\\\cat.10512.jpg',\n",
       " 'cats\\\\cat.10513.jpg',\n",
       " 'cats\\\\cat.10514.jpg',\n",
       " 'cats\\\\cat.10515.jpg',\n",
       " 'cats\\\\cat.10516.jpg',\n",
       " 'cats\\\\cat.10517.jpg',\n",
       " 'cats\\\\cat.10518.jpg',\n",
       " 'cats\\\\cat.10519.jpg',\n",
       " 'cats\\\\cat.1052.jpg',\n",
       " 'cats\\\\cat.10520.jpg',\n",
       " 'cats\\\\cat.10521.jpg',\n",
       " 'cats\\\\cat.10522.jpg',\n",
       " 'cats\\\\cat.10523.jpg',\n",
       " 'cats\\\\cat.10524.jpg',\n",
       " 'cats\\\\cat.10525.jpg',\n",
       " 'cats\\\\cat.10526.jpg',\n",
       " 'cats\\\\cat.10527.jpg',\n",
       " 'cats\\\\cat.10528.jpg',\n",
       " 'cats\\\\cat.10529.jpg',\n",
       " 'cats\\\\cat.1053.jpg',\n",
       " 'cats\\\\cat.10530.jpg',\n",
       " 'cats\\\\cat.10531.jpg',\n",
       " 'cats\\\\cat.10532.jpg',\n",
       " 'cats\\\\cat.10533.jpg',\n",
       " 'cats\\\\cat.10534.jpg',\n",
       " 'cats\\\\cat.10535.jpg',\n",
       " 'cats\\\\cat.10536.jpg',\n",
       " 'cats\\\\cat.10537.jpg',\n",
       " 'cats\\\\cat.10538.jpg',\n",
       " 'cats\\\\cat.10539.jpg',\n",
       " 'cats\\\\cat.1054.jpg',\n",
       " 'cats\\\\cat.10540.jpg',\n",
       " 'cats\\\\cat.10541.jpg',\n",
       " 'cats\\\\cat.10542.jpg',\n",
       " 'cats\\\\cat.10543.jpg',\n",
       " 'cats\\\\cat.10544.jpg',\n",
       " 'cats\\\\cat.10545.jpg',\n",
       " 'cats\\\\cat.10546.jpg',\n",
       " 'cats\\\\cat.10547.jpg',\n",
       " 'cats\\\\cat.10548.jpg',\n",
       " 'cats\\\\cat.10549.jpg',\n",
       " 'cats\\\\cat.1055.jpg',\n",
       " 'cats\\\\cat.10550.jpg',\n",
       " 'cats\\\\cat.10551.jpg',\n",
       " 'cats\\\\cat.10552.jpg',\n",
       " 'cats\\\\cat.10553.jpg',\n",
       " 'cats\\\\cat.10554.jpg',\n",
       " 'cats\\\\cat.10555.jpg',\n",
       " 'cats\\\\cat.10556.jpg',\n",
       " 'cats\\\\cat.10557.jpg',\n",
       " 'cats\\\\cat.10558.jpg',\n",
       " 'cats\\\\cat.10559.jpg',\n",
       " 'cats\\\\cat.1056.jpg',\n",
       " 'cats\\\\cat.10560.jpg',\n",
       " 'cats\\\\cat.10561.jpg',\n",
       " 'cats\\\\cat.10562.jpg',\n",
       " 'cats\\\\cat.10563.jpg',\n",
       " 'cats\\\\cat.10564.jpg',\n",
       " 'cats\\\\cat.10565.jpg',\n",
       " 'cats\\\\cat.10566.jpg',\n",
       " 'cats\\\\cat.10567.jpg',\n",
       " 'cats\\\\cat.10568.jpg',\n",
       " 'cats\\\\cat.10569.jpg',\n",
       " 'cats\\\\cat.1057.jpg',\n",
       " 'cats\\\\cat.10570.jpg',\n",
       " 'cats\\\\cat.10571.jpg',\n",
       " 'cats\\\\cat.10572.jpg',\n",
       " 'cats\\\\cat.10573.jpg',\n",
       " 'cats\\\\cat.10574.jpg',\n",
       " 'cats\\\\cat.10575.jpg',\n",
       " 'cats\\\\cat.10576.jpg',\n",
       " 'cats\\\\cat.10577.jpg',\n",
       " 'cats\\\\cat.10578.jpg',\n",
       " 'cats\\\\cat.10579.jpg',\n",
       " 'cats\\\\cat.1058.jpg',\n",
       " 'cats\\\\cat.10580.jpg',\n",
       " 'cats\\\\cat.10581.jpg',\n",
       " 'cats\\\\cat.10582.jpg',\n",
       " 'cats\\\\cat.10583.jpg',\n",
       " 'cats\\\\cat.10584.jpg',\n",
       " 'cats\\\\cat.10585.jpg',\n",
       " 'cats\\\\cat.10586.jpg',\n",
       " 'cats\\\\cat.10587.jpg',\n",
       " 'cats\\\\cat.10588.jpg',\n",
       " 'cats\\\\cat.10589.jpg',\n",
       " 'cats\\\\cat.1059.jpg',\n",
       " 'cats\\\\cat.10590.jpg',\n",
       " 'cats\\\\cat.10591.jpg',\n",
       " 'cats\\\\cat.10592.jpg',\n",
       " 'cats\\\\cat.10593.jpg',\n",
       " 'cats\\\\cat.10594.jpg',\n",
       " 'cats\\\\cat.10595.jpg',\n",
       " 'cats\\\\cat.10596.jpg',\n",
       " 'cats\\\\cat.10597.jpg',\n",
       " 'cats\\\\cat.10598.jpg',\n",
       " 'cats\\\\cat.10599.jpg',\n",
       " 'cats\\\\cat.106.jpg',\n",
       " 'cats\\\\cat.1060.jpg',\n",
       " 'cats\\\\cat.10600.jpg',\n",
       " 'cats\\\\cat.10601.jpg',\n",
       " 'cats\\\\cat.10602.jpg',\n",
       " 'cats\\\\cat.10603.jpg',\n",
       " 'cats\\\\cat.10604.jpg',\n",
       " 'cats\\\\cat.10605.jpg',\n",
       " 'cats\\\\cat.10606.jpg',\n",
       " 'cats\\\\cat.10607.jpg',\n",
       " 'cats\\\\cat.10608.jpg',\n",
       " 'cats\\\\cat.10609.jpg',\n",
       " 'cats\\\\cat.1061.jpg',\n",
       " 'cats\\\\cat.10610.jpg',\n",
       " 'cats\\\\cat.10611.jpg',\n",
       " 'cats\\\\cat.10612.jpg',\n",
       " 'cats\\\\cat.10613.jpg',\n",
       " 'cats\\\\cat.10614.jpg',\n",
       " 'cats\\\\cat.10615.jpg',\n",
       " 'cats\\\\cat.10616.jpg',\n",
       " 'cats\\\\cat.10617.jpg',\n",
       " 'cats\\\\cat.10618.jpg',\n",
       " 'cats\\\\cat.10619.jpg',\n",
       " 'cats\\\\cat.1062.jpg',\n",
       " 'cats\\\\cat.10620.jpg',\n",
       " 'cats\\\\cat.10621.jpg',\n",
       " 'cats\\\\cat.10622.jpg',\n",
       " 'cats\\\\cat.10623.jpg',\n",
       " 'cats\\\\cat.10624.jpg',\n",
       " 'cats\\\\cat.10625.jpg',\n",
       " 'cats\\\\cat.10626.jpg',\n",
       " 'cats\\\\cat.10627.jpg',\n",
       " 'cats\\\\cat.10628.jpg',\n",
       " 'cats\\\\cat.10629.jpg',\n",
       " 'cats\\\\cat.1063.jpg',\n",
       " 'cats\\\\cat.10630.jpg',\n",
       " 'cats\\\\cat.10631.jpg',\n",
       " 'cats\\\\cat.10632.jpg',\n",
       " 'cats\\\\cat.10633.jpg',\n",
       " 'cats\\\\cat.10634.jpg',\n",
       " 'cats\\\\cat.10635.jpg',\n",
       " 'cats\\\\cat.10636.jpg',\n",
       " 'cats\\\\cat.10637.jpg',\n",
       " 'cats\\\\cat.10638.jpg',\n",
       " 'cats\\\\cat.10639.jpg',\n",
       " 'cats\\\\cat.1064.jpg',\n",
       " 'cats\\\\cat.10640.jpg',\n",
       " 'cats\\\\cat.10641.jpg',\n",
       " 'cats\\\\cat.10642.jpg',\n",
       " 'cats\\\\cat.10643.jpg',\n",
       " 'cats\\\\cat.10644.jpg',\n",
       " 'cats\\\\cat.10645.jpg',\n",
       " 'cats\\\\cat.10646.jpg',\n",
       " 'cats\\\\cat.10647.jpg',\n",
       " 'cats\\\\cat.10648.jpg',\n",
       " 'cats\\\\cat.10649.jpg',\n",
       " 'cats\\\\cat.1065.jpg',\n",
       " 'cats\\\\cat.10650.jpg',\n",
       " 'cats\\\\cat.10651.jpg',\n",
       " 'cats\\\\cat.10652.jpg',\n",
       " 'cats\\\\cat.10653.jpg',\n",
       " 'cats\\\\cat.10654.jpg',\n",
       " 'cats\\\\cat.10655.jpg',\n",
       " 'cats\\\\cat.10656.jpg',\n",
       " 'cats\\\\cat.10657.jpg',\n",
       " 'cats\\\\cat.10658.jpg',\n",
       " 'cats\\\\cat.10659.jpg',\n",
       " 'cats\\\\cat.1066.jpg',\n",
       " 'cats\\\\cat.10660.jpg',\n",
       " 'cats\\\\cat.10661.jpg',\n",
       " 'cats\\\\cat.10662.jpg',\n",
       " 'cats\\\\cat.10663.jpg',\n",
       " 'cats\\\\cat.10664.jpg',\n",
       " 'cats\\\\cat.10665.jpg',\n",
       " 'cats\\\\cat.10666.jpg',\n",
       " 'cats\\\\cat.10667.jpg',\n",
       " 'cats\\\\cat.10668.jpg',\n",
       " 'cats\\\\cat.10669.jpg',\n",
       " 'cats\\\\cat.1067.jpg',\n",
       " 'cats\\\\cat.10670.jpg',\n",
       " 'cats\\\\cat.10671.jpg',\n",
       " 'cats\\\\cat.10672.jpg',\n",
       " 'cats\\\\cat.10673.jpg',\n",
       " 'cats\\\\cat.10674.jpg',\n",
       " 'cats\\\\cat.10675.jpg',\n",
       " 'cats\\\\cat.10676.jpg',\n",
       " 'cats\\\\cat.10677.jpg',\n",
       " 'cats\\\\cat.10678.jpg',\n",
       " 'cats\\\\cat.10679.jpg',\n",
       " 'cats\\\\cat.1068.jpg',\n",
       " 'cats\\\\cat.10680.jpg',\n",
       " 'cats\\\\cat.10681.jpg',\n",
       " 'cats\\\\cat.10682.jpg',\n",
       " 'cats\\\\cat.10683.jpg',\n",
       " 'cats\\\\cat.10684.jpg',\n",
       " 'cats\\\\cat.10685.jpg',\n",
       " 'cats\\\\cat.10686.jpg',\n",
       " 'cats\\\\cat.10687.jpg',\n",
       " 'cats\\\\cat.10688.jpg',\n",
       " 'cats\\\\cat.10689.jpg',\n",
       " 'cats\\\\cat.1069.jpg',\n",
       " 'cats\\\\cat.10690.jpg',\n",
       " 'cats\\\\cat.10691.jpg',\n",
       " 'cats\\\\cat.10692.jpg',\n",
       " 'cats\\\\cat.10693.jpg',\n",
       " 'cats\\\\cat.10694.jpg',\n",
       " 'cats\\\\cat.10695.jpg',\n",
       " 'cats\\\\cat.10696.jpg',\n",
       " 'cats\\\\cat.10697.jpg',\n",
       " 'cats\\\\cat.10698.jpg',\n",
       " 'cats\\\\cat.10699.jpg',\n",
       " 'cats\\\\cat.107.jpg',\n",
       " 'cats\\\\cat.1070.jpg',\n",
       " 'cats\\\\cat.10700.jpg',\n",
       " 'cats\\\\cat.10701.jpg',\n",
       " 'cats\\\\cat.10702.jpg',\n",
       " 'cats\\\\cat.10703.jpg',\n",
       " 'cats\\\\cat.10704.jpg',\n",
       " 'cats\\\\cat.10705.jpg',\n",
       " 'cats\\\\cat.10706.jpg',\n",
       " 'cats\\\\cat.10707.jpg',\n",
       " 'cats\\\\cat.10708.jpg',\n",
       " 'cats\\\\cat.10709.jpg',\n",
       " 'cats\\\\cat.1071.jpg',\n",
       " 'cats\\\\cat.10710.jpg',\n",
       " 'cats\\\\cat.10711.jpg',\n",
       " 'cats\\\\cat.10712.jpg',\n",
       " 'cats\\\\cat.10713.jpg',\n",
       " 'cats\\\\cat.10714.jpg',\n",
       " 'cats\\\\cat.10715.jpg',\n",
       " 'cats\\\\cat.10716.jpg',\n",
       " 'cats\\\\cat.10717.jpg',\n",
       " 'cats\\\\cat.10718.jpg',\n",
       " 'cats\\\\cat.10719.jpg',\n",
       " 'cats\\\\cat.1072.jpg',\n",
       " 'cats\\\\cat.10720.jpg',\n",
       " 'cats\\\\cat.10721.jpg',\n",
       " 'cats\\\\cat.10722.jpg',\n",
       " 'cats\\\\cat.10723.jpg',\n",
       " 'cats\\\\cat.10724.jpg',\n",
       " 'cats\\\\cat.10725.jpg',\n",
       " 'cats\\\\cat.10726.jpg',\n",
       " 'cats\\\\cat.10727.jpg',\n",
       " 'cats\\\\cat.10728.jpg',\n",
       " 'cats\\\\cat.10729.jpg',\n",
       " 'cats\\\\cat.1073.jpg',\n",
       " 'cats\\\\cat.10730.jpg',\n",
       " 'cats\\\\cat.10731.jpg',\n",
       " 'cats\\\\cat.10732.jpg',\n",
       " 'cats\\\\cat.10733.jpg',\n",
       " 'cats\\\\cat.10734.jpg',\n",
       " 'cats\\\\cat.10735.jpg',\n",
       " 'cats\\\\cat.10736.jpg',\n",
       " 'cats\\\\cat.10737.jpg',\n",
       " 'cats\\\\cat.10738.jpg',\n",
       " 'cats\\\\cat.10739.jpg',\n",
       " 'cats\\\\cat.1074.jpg',\n",
       " 'cats\\\\cat.10740.jpg',\n",
       " 'cats\\\\cat.10741.jpg',\n",
       " 'cats\\\\cat.10742.jpg',\n",
       " 'cats\\\\cat.10743.jpg',\n",
       " 'cats\\\\cat.10744.jpg',\n",
       " 'cats\\\\cat.10745.jpg',\n",
       " 'cats\\\\cat.10746.jpg',\n",
       " 'cats\\\\cat.10747.jpg',\n",
       " 'cats\\\\cat.10748.jpg',\n",
       " 'cats\\\\cat.10749.jpg',\n",
       " 'cats\\\\cat.1075.jpg',\n",
       " 'cats\\\\cat.10750.jpg',\n",
       " 'cats\\\\cat.10751.jpg',\n",
       " 'cats\\\\cat.10752.jpg',\n",
       " 'cats\\\\cat.10753.jpg',\n",
       " 'cats\\\\cat.10754.jpg',\n",
       " 'cats\\\\cat.10755.jpg',\n",
       " 'cats\\\\cat.10756.jpg',\n",
       " 'cats\\\\cat.10757.jpg',\n",
       " 'cats\\\\cat.10758.jpg',\n",
       " 'cats\\\\cat.10759.jpg',\n",
       " 'cats\\\\cat.1076.jpg',\n",
       " 'cats\\\\cat.10760.jpg',\n",
       " 'cats\\\\cat.10761.jpg',\n",
       " 'cats\\\\cat.10762.jpg',\n",
       " 'cats\\\\cat.10763.jpg',\n",
       " 'cats\\\\cat.10764.jpg',\n",
       " 'cats\\\\cat.10765.jpg',\n",
       " 'cats\\\\cat.10766.jpg',\n",
       " 'cats\\\\cat.10767.jpg',\n",
       " 'cats\\\\cat.10768.jpg',\n",
       " 'cats\\\\cat.10769.jpg',\n",
       " 'cats\\\\cat.1077.jpg',\n",
       " 'cats\\\\cat.10770.jpg',\n",
       " 'cats\\\\cat.10771.jpg',\n",
       " 'cats\\\\cat.10772.jpg',\n",
       " 'cats\\\\cat.10773.jpg',\n",
       " 'cats\\\\cat.10774.jpg',\n",
       " 'cats\\\\cat.10775.jpg',\n",
       " 'cats\\\\cat.10776.jpg',\n",
       " 'cats\\\\cat.10777.jpg',\n",
       " 'cats\\\\cat.10778.jpg',\n",
       " 'cats\\\\cat.10779.jpg',\n",
       " 'cats\\\\cat.1078.jpg',\n",
       " 'cats\\\\cat.10780.jpg',\n",
       " 'cats\\\\cat.10781.jpg',\n",
       " 'cats\\\\cat.10782.jpg',\n",
       " 'cats\\\\cat.10783.jpg',\n",
       " 'cats\\\\cat.10784.jpg',\n",
       " 'cats\\\\cat.10785.jpg',\n",
       " 'cats\\\\cat.10786.jpg',\n",
       " 'cats\\\\cat.10787.jpg',\n",
       " 'cats\\\\cat.10788.jpg',\n",
       " 'cats\\\\cat.10789.jpg',\n",
       " 'cats\\\\cat.1079.jpg',\n",
       " 'cats\\\\cat.10790.jpg',\n",
       " 'cats\\\\cat.10791.jpg',\n",
       " 'cats\\\\cat.10792.jpg',\n",
       " 'cats\\\\cat.10793.jpg',\n",
       " 'cats\\\\cat.10794.jpg',\n",
       " 'cats\\\\cat.10795.jpg',\n",
       " 'cats\\\\cat.10796.jpg',\n",
       " 'cats\\\\cat.10797.jpg',\n",
       " 'cats\\\\cat.10798.jpg',\n",
       " 'cats\\\\cat.10799.jpg',\n",
       " 'cats\\\\cat.108.jpg',\n",
       " 'cats\\\\cat.1080.jpg',\n",
       " 'cats\\\\cat.10800.jpg',\n",
       " 'cats\\\\cat.10801.jpg',\n",
       " 'cats\\\\cat.10802.jpg',\n",
       " 'cats\\\\cat.10803.jpg',\n",
       " 'cats\\\\cat.10804.jpg',\n",
       " 'cats\\\\cat.10805.jpg',\n",
       " 'cats\\\\cat.10806.jpg',\n",
       " 'cats\\\\cat.10807.jpg',\n",
       " 'cats\\\\cat.10808.jpg',\n",
       " 'cats\\\\cat.10809.jpg',\n",
       " 'cats\\\\cat.1081.jpg',\n",
       " 'cats\\\\cat.10810.jpg',\n",
       " 'cats\\\\cat.10811.jpg',\n",
       " 'cats\\\\cat.10812.jpg',\n",
       " 'cats\\\\cat.10813.jpg',\n",
       " 'cats\\\\cat.10814.jpg',\n",
       " 'cats\\\\cat.10815.jpg',\n",
       " 'cats\\\\cat.10816.jpg',\n",
       " 'cats\\\\cat.10817.jpg',\n",
       " 'cats\\\\cat.10818.jpg',\n",
       " 'cats\\\\cat.10819.jpg',\n",
       " 'cats\\\\cat.1082.jpg',\n",
       " 'cats\\\\cat.10820.jpg',\n",
       " 'cats\\\\cat.10821.jpg',\n",
       " 'cats\\\\cat.10822.jpg',\n",
       " 'cats\\\\cat.10823.jpg',\n",
       " 'cats\\\\cat.10824.jpg',\n",
       " 'cats\\\\cat.10825.jpg',\n",
       " 'cats\\\\cat.10826.jpg',\n",
       " 'cats\\\\cat.10827.jpg',\n",
       " 'cats\\\\cat.10828.jpg',\n",
       " 'cats\\\\cat.10829.jpg',\n",
       " 'cats\\\\cat.1083.jpg',\n",
       " 'cats\\\\cat.10830.jpg',\n",
       " 'cats\\\\cat.10831.jpg',\n",
       " 'cats\\\\cat.10832.jpg',\n",
       " 'cats\\\\cat.10833.jpg',\n",
       " 'cats\\\\cat.10834.jpg',\n",
       " 'cats\\\\cat.10835.jpg',\n",
       " 'cats\\\\cat.10836.jpg',\n",
       " 'cats\\\\cat.10837.jpg',\n",
       " 'cats\\\\cat.10838.jpg',\n",
       " 'cats\\\\cat.10839.jpg',\n",
       " 'cats\\\\cat.1084.jpg',\n",
       " 'cats\\\\cat.10840.jpg',\n",
       " 'cats\\\\cat.10841.jpg',\n",
       " 'cats\\\\cat.10842.jpg',\n",
       " 'cats\\\\cat.10843.jpg',\n",
       " 'cats\\\\cat.10844.jpg',\n",
       " 'cats\\\\cat.10845.jpg',\n",
       " 'cats\\\\cat.10846.jpg',\n",
       " 'cats\\\\cat.10847.jpg',\n",
       " 'cats\\\\cat.10848.jpg',\n",
       " 'cats\\\\cat.10849.jpg',\n",
       " 'cats\\\\cat.1085.jpg',\n",
       " 'cats\\\\cat.10850.jpg',\n",
       " 'cats\\\\cat.10851.jpg',\n",
       " 'cats\\\\cat.10852.jpg',\n",
       " 'cats\\\\cat.10853.jpg',\n",
       " 'cats\\\\cat.10854.jpg',\n",
       " 'cats\\\\cat.10855.jpg',\n",
       " 'cats\\\\cat.10856.jpg',\n",
       " 'cats\\\\cat.10857.jpg',\n",
       " 'cats\\\\cat.10858.jpg',\n",
       " 'cats\\\\cat.10859.jpg',\n",
       " 'cats\\\\cat.1086.jpg',\n",
       " 'cats\\\\cat.10860.jpg',\n",
       " 'cats\\\\cat.10861.jpg',\n",
       " 'cats\\\\cat.10862.jpg',\n",
       " 'cats\\\\cat.10863.jpg',\n",
       " 'cats\\\\cat.10864.jpg',\n",
       " 'cats\\\\cat.10865.jpg',\n",
       " 'cats\\\\cat.10866.jpg',\n",
       " 'cats\\\\cat.10867.jpg',\n",
       " 'cats\\\\cat.10868.jpg',\n",
       " 'cats\\\\cat.10869.jpg',\n",
       " 'cats\\\\cat.1087.jpg',\n",
       " 'cats\\\\cat.10870.jpg',\n",
       " 'cats\\\\cat.10871.jpg',\n",
       " 'cats\\\\cat.10872.jpg',\n",
       " 'cats\\\\cat.10873.jpg',\n",
       " 'cats\\\\cat.10874.jpg',\n",
       " 'cats\\\\cat.10875.jpg',\n",
       " 'cats\\\\cat.10876.jpg',\n",
       " 'cats\\\\cat.10877.jpg',\n",
       " 'cats\\\\cat.10878.jpg',\n",
       " 'cats\\\\cat.10879.jpg',\n",
       " 'cats\\\\cat.1088.jpg',\n",
       " 'cats\\\\cat.10880.jpg',\n",
       " 'cats\\\\cat.10881.jpg',\n",
       " 'cats\\\\cat.10882.jpg',\n",
       " 'cats\\\\cat.10883.jpg',\n",
       " 'cats\\\\cat.10884.jpg',\n",
       " 'cats\\\\cat.10885.jpg',\n",
       " 'cats\\\\cat.10886.jpg',\n",
       " 'cats\\\\cat.10887.jpg',\n",
       " 'cats\\\\cat.10888.jpg',\n",
       " 'cats\\\\cat.10889.jpg',\n",
       " 'cats\\\\cat.1089.jpg',\n",
       " 'cats\\\\cat.10890.jpg',\n",
       " 'cats\\\\cat.10891.jpg',\n",
       " 'cats\\\\cat.10892.jpg',\n",
       " 'cats\\\\cat.10893.jpg',\n",
       " 'cats\\\\cat.10894.jpg',\n",
       " 'cats\\\\cat.10895.jpg',\n",
       " 'cats\\\\cat.10896.jpg',\n",
       " 'cats\\\\cat.10897.jpg',\n",
       " ...]"
      ]
     },
     "execution_count": 28,
     "metadata": {},
     "output_type": "execute_result"
    }
   ],
   "execution_count": 28
  },
  {
   "metadata": {},
   "cell_type": "markdown",
   "source": [
    "### This code cell performs the task of:\n",
    " - counting the occurrences of different image shapes in the cats folder. It uses the pixels_from_path function to get the shape of each image and stores the counts in a defaultdict."
   ]
  },
  {
   "cell_type": "code",
   "metadata": {
    "ExecuteTime": {
     "end_time": "2024-11-10T05:27:39.323615Z",
     "start_time": "2024-11-10T05:27:37.279921Z"
    }
   },
   "source": [
    "shape_counts = defaultdict(int)\n",
    "for i, cat in enumerate(glob.glob('cats/*')[:1000]):\n",
    "    if i%100==0:\n",
    "        print(i)\n",
    "    img_shape = pixels_from_path(cat).shape\n",
    "    shape_counts[str(img_shape)]= shape_counts[str(img_shape)]+ 1"
   ],
   "outputs": [
    {
     "name": "stdout",
     "output_type": "stream",
     "text": [
      "0\n",
      "100\n",
      "200\n",
      "300\n",
      "400\n",
      "500\n",
      "600\n",
      "700\n",
      "800\n",
      "900\n"
     ]
    }
   ],
   "execution_count": 29
  },
  {
   "metadata": {},
   "cell_type": "markdown",
   "source": [
    "### This code cell performs the task of:\n",
    " - sorting the shape_counts dictionary items by their counts in descending order and storing the sorted items in the shape_items list."
   ]
  },
  {
   "metadata": {
    "ExecuteTime": {
     "end_time": "2024-11-10T05:27:39.360213Z",
     "start_time": "2024-11-10T05:27:39.355651Z"
    }
   },
   "cell_type": "code",
   "source": [
    "shape_items = list(shape_counts.items())\n",
    "shape_items.sort(key = lambda x: x[1])\n",
    "shape_items.reverse()"
   ],
   "outputs": [],
   "execution_count": 30
  },
  {
   "metadata": {},
   "cell_type": "markdown",
   "source": [
    "### This code cell performs the task of:\n",
    " - setting up parameters for the data processing and model training:"
   ]
  },
  {
   "cell_type": "code",
   "metadata": {
    "ExecuteTime": {
     "end_time": "2024-11-10T05:27:39.404818Z",
     "start_time": "2024-11-10T05:27:39.401645Z"
    }
   },
   "source": [
    "# 10% of the data will automatically be used for validation\n",
    "validation_size = 0.1\n",
    "img_size = IMG_SIZE # resize images to be 374x500 (most common shape)\n",
    "num_channels = 3 # RGB\n",
    "sample_size = 8192 #We'll use 8192 pictures (2**13)"
   ],
   "outputs": [],
   "execution_count": 31
  },
  {
   "metadata": {},
   "cell_type": "markdown",
   "source": [
    "### This code cell performs the task of:\n",
    " - loading the training data by counting the number of image files in the cats folder.\n"
   ]
  },
  {
   "cell_type": "code",
   "metadata": {
    "ExecuteTime": {
     "end_time": "2024-11-10T05:27:39.461154Z",
     "start_time": "2024-11-10T05:27:39.422705Z"
    }
   },
   "source": [
    "len(glob.glob('cats/*'))"
   ],
   "outputs": [
    {
     "data": {
      "text/plain": [
       "12500"
      ]
     },
     "execution_count": 32,
     "metadata": {},
     "output_type": "execute_result"
    }
   ],
   "execution_count": 32
  },
  {
   "metadata": {},
   "cell_type": "markdown",
   "source": [
    "### This code cell performs the task of:\n",
    " - testing the function pixels_from_path by getting the shape of the image at index 5 in the cats folder."
   ]
  },
  {
   "cell_type": "code",
   "metadata": {
    "ExecuteTime": {
     "end_time": "2024-11-10T05:27:39.520459Z",
     "start_time": "2024-11-10T05:27:39.481649Z"
    }
   },
   "source": [
    "pixels_from_path(glob.glob('cats/*')[5]).shape"
   ],
   "outputs": [
    {
     "data": {
      "text/plain": [
       "(125, 94, 3)"
      ]
     },
     "execution_count": 33,
     "metadata": {},
     "output_type": "execute_result"
    }
   ],
   "execution_count": 33
  },
  {
   "metadata": {},
   "cell_type": "markdown",
   "source": [
    "### This code cell performs the task of:\n",
    " - loading and verifying the shape of an image from the cats folder. It uses the glob module to get file paths, the PIL library to open and resize images, and NumPy to convert images to arrays."
   ]
  },
  {
   "metadata": {
    "ExecuteTime": {
     "end_time": "2024-11-10T05:27:39.594573Z",
     "start_time": "2024-11-10T05:27:39.554898Z"
    }
   },
   "cell_type": "code",
   "source": [
    "import glob\n",
    "from PIL import Image\n",
    "import numpy as np\n",
    "\n",
    "IMG_SIZE = (94, 125)\n",
    "\n",
    "def pixels_from_path(file_path):\n",
    "    try:\n",
    "        im = Image.open(file_path)\n",
    "        im = im.resize(IMG_SIZE)\n",
    "        np_im = np.array(im)\n",
    "        return np_im\n",
    "    except Exception as e:\n",
    "        print(f\"Error processing file {file_path}: {e}\")\n",
    "        return None\n",
    "\n",
    "# Check the file paths\n",
    "file_paths = glob.glob('cats/*')\n",
    "print(f\"Found {len(file_paths)} files.\")\n",
    "\n",
    "# Verify the image file at index 5\n",
    "if len(file_paths) > 5:\n",
    "    image_shape = pixels_from_path(file_paths[5])\n",
    "    if image_shape is not None:\n",
    "        print(f\"Image shape: {image_shape.shape}\")\n",
    "    else:\n",
    "        print(\"Failed to process the image.\")\n",
    "else:\n",
    "    print(\"Not enough files found.\")"
   ],
   "outputs": [
    {
     "name": "stdout",
     "output_type": "stream",
     "text": [
      "Found 12500 files.\n",
      "Image shape: (125, 94, 3)\n"
     ]
    }
   ],
   "execution_count": 34
  },
  {
   "metadata": {},
   "cell_type": "markdown",
   "source": [
    "### This code cell performs the task of:\n",
    " - loading training data for cats and dogs by using the pixels_from_path function to process the images and convert them to NumPy arrays. It loads the first 2048 images from the cats and dogs folders."
   ]
  },
  {
   "cell_type": "code",
   "metadata": {
    "ExecuteTime": {
     "end_time": "2024-11-10T05:27:48.143153Z",
     "start_time": "2024-11-10T05:27:39.616220Z"
    }
   },
   "source": [
    "SAMPLE_SIZE = 2048\n",
    "print(\"loading training cat images...\")\n",
    "cat_train_set = np.asarray([pixels_from_path(cat) for cat in glob.glob('cats/*')[:SAMPLE_SIZE]])\n",
    "print(\"loading training dog images...\")\n",
    "dog_train_set = np.asarray([pixels_from_path(dog) for dog in glob.glob('dogs/*')[:SAMPLE_SIZE]])"
   ],
   "outputs": [
    {
     "name": "stdout",
     "output_type": "stream",
     "text": [
      "loading training cat images...\n",
      "loading training dog images...\n"
     ]
    }
   ],
   "execution_count": 35
  },
  {
   "metadata": {},
   "cell_type": "markdown",
   "source": [
    "### This code cell performs the task of:\n",
    " - loading the validation data for cats and dogs by using the pixels_from_path function to process the images and convert them to NumPy arrays. \n",
    "    - It loads the last 512 images from the cats and dogs folders"
   ]
  },
  {
   "cell_type": "code",
   "metadata": {
    "ExecuteTime": {
     "end_time": "2024-11-10T05:27:50.350822Z",
     "start_time": "2024-11-10T05:27:48.169779Z"
    }
   },
   "source": [
    "valid_size = 512\n",
    "print(\"loading validation cat images...\")\n",
    "cat_valid_set = np.asarray([pixels_from_path(cat) for cat in glob.glob('cats/*')[-valid_size:]])\n",
    "print(\"loading validation dog images...\")\n",
    "dog_valid_set = np.asarray([pixels_from_path(dog) for dog in glob.glob('dogs/*')[-valid_size:]])"
   ],
   "outputs": [
    {
     "name": "stdout",
     "output_type": "stream",
     "text": [
      "loading validation cat images...\n",
      "loading validation dog images...\n"
     ]
    }
   ],
   "execution_count": 36
  },
  {
   "metadata": {},
   "cell_type": "markdown",
   "source": [
    "T### This code cell performs the task of:\n",
    " - loading the validation data for cats and dogs by concatenating the cat_valid_set and dog_valid_set arrays into a single array x_valid and creating the corresponding labels array labels_valid. \n",
    "  - The labels are set to 1 for cats and 0 for dogs."
   ]
  },
  {
   "cell_type": "code",
   "metadata": {
    "ExecuteTime": {
     "end_time": "2024-11-10T05:27:50.426125Z",
     "start_time": "2024-11-10T05:27:50.369914Z"
    }
   },
   "source": [
    "x_train = np.concatenate([cat_train_set, dog_train_set])\n",
    "labels_train = np.asarray([1 for _ in range(SAMPLE_SIZE)]+[0 for _ in range(SAMPLE_SIZE)])"
   ],
   "outputs": [],
   "execution_count": 37
  },
  {
   "metadata": {},
   "cell_type": "markdown",
   "source": [
    "### This code cell performs the task of:\n",
    " - loading the validation data for cats and dogs by concatenating the `cat_valid_set` and `dog_valid_set` arrays into a single array `x_valid` and creating the corresponding labels array `labels_valid`. \n",
    "  - The labels are set to 1 for cats and 0 for dogs."
   ]
  },
  {
   "cell_type": "code",
   "metadata": {
    "ExecuteTime": {
     "end_time": "2024-11-10T05:27:50.460435Z",
     "start_time": "2024-11-10T05:27:50.446354Z"
    }
   },
   "source": [
    "x_valid = np.concatenate([cat_valid_set, dog_valid_set])\n",
    "labels_valid = np.asarray([1 for _ in range(valid_size)]+[0 for _ in range(valid_size)])"
   ],
   "outputs": [],
   "execution_count": 38
  },
  {
   "metadata": {},
   "cell_type": "markdown",
   "source": [
    "### This code cell performs the task of:\n",
    " - checking the shape of the training data."
   ]
  },
  {
   "cell_type": "code",
   "metadata": {
    "ExecuteTime": {
     "end_time": "2024-11-10T05:47:21.866451Z",
     "start_time": "2024-11-10T05:47:21.861513Z"
    }
   },
   "source": [
    "x_train.shape"
   ],
   "outputs": [
    {
     "data": {
      "text/plain": [
       "(4096, 125, 94, 3)"
      ]
     },
     "execution_count": 77,
     "metadata": {},
     "output_type": "execute_result"
    }
   ],
   "execution_count": 77
  },
  {
   "metadata": {},
   "cell_type": "markdown",
   "source": [
    "T### This code cell performs the task of:\n",
    " - checking the shape of the training data."
   ]
  },
  {
   "cell_type": "code",
   "metadata": {
    "ExecuteTime": {
     "end_time": "2024-11-10T05:27:50.579275Z",
     "start_time": "2024-11-10T05:27:50.571767Z"
    }
   },
   "source": [
    "labels_train.shape"
   ],
   "outputs": [
    {
     "data": {
      "text/plain": [
       "(4096,)"
      ]
     },
     "execution_count": 40,
     "metadata": {},
     "output_type": "execute_result"
    }
   ],
   "execution_count": 40
  },
  {
   "cell_type": "markdown",
   "metadata": {},
   "source": [
    "# Run of the Mill MLP"
   ]
  },
  {
   "metadata": {},
   "cell_type": "markdown",
   "source": [
    "### This code cell performs the task of:\n",
    " - defining a simple neural network model using TensorFlow and Keras. The model consists of an input layer, a flattening layer, a dense layer with ReLU activation, and an output layer with sigmoid activation."
   ]
  },
  {
   "cell_type": "code",
   "metadata": {
    "ExecuteTime": {
     "end_time": "2024-11-10T05:27:50.727118Z",
     "start_time": "2024-11-10T05:27:50.679679Z"
    }
   },
   "source": [
    "from tensorflow import keras\n",
    "from tensorflow.keras import layers\n",
    "\n",
    "total_pixels = img_size[0] *img_size[1] * 3\n",
    "fc_size = 512\n",
    "\n",
    "inputs = keras.Input(shape=(img_size[1], img_size[0],3), name='ani_image')\n",
    "x = layers.Flatten(name = 'flattened_img')(inputs) #turn image to vector.\n",
    "\n",
    "x = layers.Dense(fc_size, activation='relu', name='first_layer')(x)\n",
    "outputs = layers.Dense(1, activation='sigmoid', name='class')(x)\n",
    "\n",
    "model = keras.Model(inputs=inputs, outputs=outputs)"
   ],
   "outputs": [],
   "execution_count": 41
  },
  {
   "metadata": {},
   "cell_type": "markdown",
   "source": "# Compile the model\n"
  },
  {
   "metadata": {},
   "cell_type": "markdown",
   "source": [
    "### This code cell performs the task of:\n",
    " - compiling a Keras model using the Adam optimizer with a learning rate of 0.001, the mean squared error loss function, and binary cross-entropy as a metric.\n",
    "#### Changes:\n",
    "- lr was not recognised so it was changed to learning_rate"
   ]
  },
  {
   "cell_type": "code",
   "metadata": {
    "ExecuteTime": {
     "end_time": "2024-11-10T05:27:50.767278Z",
     "start_time": "2024-11-10T05:27:50.756211Z"
    }
   },
   "source": [
    "customAdam = keras.optimizers.Adam(learning_rate=0.001)\n",
    "model.compile(optimizer=customAdam,  # Optimizer\n",
    "              # Loss function to minimize\n",
    "              loss=\"mean_squared_error\",\n",
    "              # List of metrics to monitor\n",
    "              metrics=[\"binary_crossentropy\"])"
   ],
   "outputs": [],
   "execution_count": 42
  },
  {
   "metadata": {},
   "cell_type": "markdown",
   "source": [
    "### This code cell performs the task of:\n",
    " - reshaping the labels_train and labels_valid arrays to match the output shape of the model, prints a message indicating that the model is being fit on the training data, and then fits the model using the training data and validation data.\n",
    "#### Changes:\n",
    "- Reshape labels_train to match the model's output shape"
   ]
  },
  {
   "cell_type": "code",
   "metadata": {
    "ExecuteTime": {
     "end_time": "2024-11-10T05:29:28.319438Z",
     "start_time": "2024-11-10T05:27:50.812185Z"
    }
   },
   "source": [
    "# Reshape labels to match the output shape\n",
    "labels_train = labels_train.reshape(-1, 1)\n",
    "labels_valid = labels_valid.reshape(-1, 1)\n",
    "\n",
    "print('Fit model on training data')\n",
    "\n",
    "history = model.fit(x_train,\n",
    "                    labels_train,\n",
    "                    batch_size=32,\n",
    "                    shuffle=True,\n",
    "                    epochs=10,\n",
    "                    validation_data=(x_valid, labels_valid))"
   ],
   "outputs": [
    {
     "name": "stdout",
     "output_type": "stream",
     "text": [
      "Fit model on training data\n",
      "Epoch 1/10\n",
      "\u001B[1m128/128\u001B[0m \u001B[32m━━━━━━━━━━━━━━━━━━━━\u001B[0m\u001B[37m\u001B[0m \u001B[1m10s\u001B[0m 74ms/step - binary_crossentropy: 1360.8787 - loss: 0.5178 - val_binary_crossentropy: 1993.0193 - val_loss: 0.5000\n",
      "Epoch 2/10\n",
      "\u001B[1m128/128\u001B[0m \u001B[32m━━━━━━━━━━━━━━━━━━━━\u001B[0m\u001B[37m\u001B[0m \u001B[1m9s\u001B[0m 74ms/step - binary_crossentropy: 2046.7698 - loss: 0.5095 - val_binary_crossentropy: 1993.0203 - val_loss: 0.5000\n",
      "Epoch 3/10\n",
      "\u001B[1m128/128\u001B[0m \u001B[32m━━━━━━━━━━━━━━━━━━━━\u001B[0m\u001B[37m\u001B[0m \u001B[1m9s\u001B[0m 72ms/step - binary_crossentropy: 2015.8652 - loss: 0.5025 - val_binary_crossentropy: 1993.0203 - val_loss: 0.5000\n",
      "Epoch 4/10\n",
      "\u001B[1m128/128\u001B[0m \u001B[32m━━━━━━━━━━━━━━━━━━━━\u001B[0m\u001B[37m\u001B[0m \u001B[1m10s\u001B[0m 75ms/step - binary_crossentropy: 2051.4202 - loss: 0.5099 - val_binary_crossentropy: 1993.0203 - val_loss: 0.5000\n",
      "Epoch 5/10\n",
      "\u001B[1m128/128\u001B[0m \u001B[32m━━━━━━━━━━━━━━━━━━━━\u001B[0m\u001B[37m\u001B[0m \u001B[1m10s\u001B[0m 78ms/step - binary_crossentropy: 2014.0220 - loss: 0.5020 - val_binary_crossentropy: 1993.0203 - val_loss: 0.5000\n",
      "Epoch 6/10\n",
      "\u001B[1m128/128\u001B[0m \u001B[32m━━━━━━━━━━━━━━━━━━━━\u001B[0m\u001B[37m\u001B[0m \u001B[1m10s\u001B[0m 75ms/step - binary_crossentropy: 2031.2592 - loss: 0.5036 - val_binary_crossentropy: 1993.0203 - val_loss: 0.5000\n",
      "Epoch 7/10\n",
      "\u001B[1m128/128\u001B[0m \u001B[32m━━━━━━━━━━━━━━━━━━━━\u001B[0m\u001B[37m\u001B[0m \u001B[1m10s\u001B[0m 75ms/step - binary_crossentropy: 2025.1260 - loss: 0.5047 - val_binary_crossentropy: 1993.0203 - val_loss: 0.5000\n",
      "Epoch 8/10\n",
      "\u001B[1m128/128\u001B[0m \u001B[32m━━━━━━━━━━━━━━━━━━━━\u001B[0m\u001B[37m\u001B[0m \u001B[1m10s\u001B[0m 76ms/step - binary_crossentropy: 2041.3243 - loss: 0.5061 - val_binary_crossentropy: 1993.0203 - val_loss: 0.5000\n",
      "Epoch 9/10\n",
      "\u001B[1m128/128\u001B[0m \u001B[32m━━━━━━━━━━━━━━━━━━━━\u001B[0m\u001B[37m\u001B[0m \u001B[1m10s\u001B[0m 76ms/step - binary_crossentropy: 2012.5393 - loss: 0.5037 - val_binary_crossentropy: 1993.0203 - val_loss: 0.5000\n",
      "Epoch 10/10\n",
      "\u001B[1m128/128\u001B[0m \u001B[32m━━━━━━━━━━━━━━━━━━━━\u001B[0m\u001B[37m\u001B[0m \u001B[1m10s\u001B[0m 79ms/step - binary_crossentropy: 2053.6804 - loss: 0.5095 - val_binary_crossentropy: 1993.0203 - val_loss: 0.5000\n"
     ]
    }
   ],
   "execution_count": 43
  },
  {
   "cell_type": "markdown",
   "metadata": {},
   "source": [
    "# Single Convolutional Layer'\n",
    "\n",
    "\n",
    "### This code cell performs the task of:\n",
    " -  defining a convolutional neural network model using TensorFlow and Keras. The model consists of an input layer, a convolutional layer with ReLU activation, a max pooling layer, a flattening layer, two dense layers with ReLU activation, and an output layer with sigmoid activation.\n",
    "\n",
    "#### Changes from Source:\n",
    "- lr was not recognised so it was changed to learning_rate\n"
   ]
  },
  {
   "cell_type": "code",
   "metadata": {
    "ExecuteTime": {
     "end_time": "2024-11-10T05:29:28.384662Z",
     "start_time": "2024-11-10T05:29:28.331610Z"
    }
   },
   "source": [
    "fc_layer_size = 128\n",
    "img_size = IMG_SIZE\n",
    "\n",
    "conv_inputs = keras.Input(shape=(img_size[1], img_size[0],3), name='ani_image')\n",
    "conv_layer = layers.Conv2D(24, kernel_size=3, activation='relu')(conv_inputs)\n",
    "conv_layer = layers.MaxPool2D(pool_size=(2,2))(conv_layer)\n",
    "conv_x = layers.Flatten(name = 'flattened_features')(conv_layer) #turn image to vector.\n",
    "\n",
    "conv_x = layers.Dense(fc_layer_size, activation='relu', name='first_layer')(conv_x)\n",
    "conv_x = layers.Dense(fc_layer_size, activation='relu', name='second_layer')(conv_x)\n",
    "conv_outputs = layers.Dense(1, activation='sigmoid', name='class')(conv_x)\n",
    "\n",
    "conv_model = keras.Model(inputs=conv_inputs, outputs=conv_outputs)"
   ],
   "outputs": [],
   "execution_count": 44
  },
  {
   "metadata": {},
   "cell_type": "markdown",
   "source": [
    "### Changes:\n",
    "- lr was not recognised so it was changed to learning_rate\n",
    "\n",
    "### This code cell performs the task of:\n",
    " - compiling a convolutional neural network model using the Adam optimizer with a learning rate of 1e-6, the binary cross-entropy loss function, and monitors both binary cross-entropy and mean squared error as metrics."
   ]
  },
  {
   "cell_type": "code",
   "metadata": {
    "ExecuteTime": {
     "end_time": "2024-11-10T05:29:28.447539Z",
     "start_time": "2024-11-10T05:29:28.436453Z"
    }
   },
   "source": [
    "customAdam = keras.optimizers.Adam(learning_rate=1e-6)\n",
    "conv_model.compile(optimizer=customAdam,  # Optimizer\n",
    "              # Loss function to minimize\n",
    "              loss=\"binary_crossentropy\",\n",
    "              # List of metrics to monitor\n",
    "              metrics=[\"binary_crossentropy\",\"mean_squared_error\"])"
   ],
   "outputs": [],
   "execution_count": 45
  },
  {
   "metadata": {},
   "cell_type": "markdown",
   "source": [
    "### Changes:\n",
    "- Reshape labels_train to match the model's output shape\n",
    "\n",
    "### This code cell performs the task of:\n",
    " - fitting the convolutional neural network model on the training data. \n",
    "  - It reshapes the labels_train and labels_valid arrays to match the output shape of the model, \n",
    "    - prints a message indicating that the model is being fit on the training data, \n",
    "        - and then fits the model using the training data and validation data."
   ]
  },
  {
   "cell_type": "code",
   "metadata": {
    "ExecuteTime": {
     "end_time": "2024-11-10T05:30:06.424455Z",
     "start_time": "2024-11-10T05:29:28.476155Z"
    }
   },
   "source": [
    "print('# Fit model on training data')\n",
    "\n",
    "# Reshape labels_train to match the model's output shape\n",
    "labels_train = labels_train.reshape(-1, 1)\n",
    "labels_valid = labels_valid.reshape(-1, 1)\n",
    "\n",
    "history = conv_model.fit(x_train, \n",
    "                    labels_train, # we pass it the labels\n",
    "                    # If the model is taking forever to train, make this bigger\n",
    "                    # If it is taking forever to load for the first epoch, make this smaller\n",
    "                    batch_size=32, \n",
    "                    shuffle=True,\n",
    "                    epochs=5,\n",
    "                    # We pass it validation data to\n",
    "                    # monitor loss and metrics\n",
    "                    # at the end of each epoch\n",
    "                    validation_data=(x_valid, labels_valid))"
   ],
   "outputs": [
    {
     "name": "stdout",
     "output_type": "stream",
     "text": [
      "# Fit model on training data\n",
      "Epoch 1/5\n",
      "\u001B[1m128/128\u001B[0m \u001B[32m━━━━━━━━━━━━━━━━━━━━\u001B[0m\u001B[37m\u001B[0m \u001B[1m9s\u001B[0m 57ms/step - binary_crossentropy: 5.0626 - loss: 5.0626 - mean_squared_error: 0.4641 - val_binary_crossentropy: 2.5576 - val_loss: 2.5576 - val_mean_squared_error: 0.4007\n",
      "Epoch 2/5\n",
      "\u001B[1m128/128\u001B[0m \u001B[32m━━━━━━━━━━━━━━━━━━━━\u001B[0m\u001B[37m\u001B[0m \u001B[1m7s\u001B[0m 56ms/step - binary_crossentropy: 2.4073 - loss: 2.4073 - mean_squared_error: 0.4113 - val_binary_crossentropy: 2.1727 - val_loss: 2.1727 - val_mean_squared_error: 0.3937\n",
      "Epoch 3/5\n",
      "\u001B[1m128/128\u001B[0m \u001B[32m━━━━━━━━━━━━━━━━━━━━\u001B[0m\u001B[37m\u001B[0m \u001B[1m7s\u001B[0m 58ms/step - binary_crossentropy: 1.8565 - loss: 1.8565 - mean_squared_error: 0.3781 - val_binary_crossentropy: 1.8997 - val_loss: 1.8997 - val_mean_squared_error: 0.3819\n",
      "Epoch 4/5\n",
      "\u001B[1m128/128\u001B[0m \u001B[32m━━━━━━━━━━━━━━━━━━━━\u001B[0m\u001B[37m\u001B[0m \u001B[1m7s\u001B[0m 56ms/step - binary_crossentropy: 1.6177 - loss: 1.6177 - mean_squared_error: 0.3601 - val_binary_crossentropy: 1.7302 - val_loss: 1.7302 - val_mean_squared_error: 0.3710\n",
      "Epoch 5/5\n",
      "\u001B[1m128/128\u001B[0m \u001B[32m━━━━━━━━━━━━━━━━━━━━\u001B[0m\u001B[37m\u001B[0m \u001B[1m7s\u001B[0m 58ms/step - binary_crossentropy: 1.3492 - loss: 1.3492 - mean_squared_error: 0.3324 - val_binary_crossentropy: 1.5323 - val_loss: 1.5323 - val_mean_squared_error: 0.3517\n"
     ]
    }
   ],
   "execution_count": 46
  },
  {
   "metadata": {},
   "cell_type": "markdown",
   "source": [
    "### Changes:\n",
    "- Flatten the predictions to match the shape of the labels\n",
    "\n",
    "### This code cell performs the task of:\n",
    " - predicting values using the convolutional neural network model, flattens the predictions and validation labels to ensure they are 1-dimensional, and then calculates the correlation coefficient between the predictions and the validation labels."
   ]
  },
  {
   "metadata": {
    "ExecuteTime": {
     "end_time": "2024-11-10T05:30:07.005171Z",
     "start_time": "2024-11-10T05:30:06.497435Z"
    }
   },
   "cell_type": "code",
   "source": [
    "import numpy as np\n",
    "\n",
    "# Predict values\n",
    "preds = conv_model.predict(x_valid)\n",
    "preds = np.asarray([pred[0] for pred in preds])\n",
    "\n",
    "# Ensure preds and labels_valid are 1-dimensional\n",
    "preds = np.asarray(preds).flatten()\n",
    "labels_valid = np.asarray(labels_valid).flatten()\n",
    "\n",
    "# Calculate correlation coefficient\n",
    "np.corrcoef(preds, labels_valid)"
   ],
   "outputs": [
    {
     "name": "stdout",
     "output_type": "stream",
     "text": [
      "\u001B[1m32/32\u001B[0m \u001B[32m━━━━━━━━━━━━━━━━━━━━\u001B[0m\u001B[37m\u001B[0m \u001B[1m0s\u001B[0m 10ms/step\n"
     ]
    },
    {
     "data": {
      "text/plain": [
       "array([[1.        , 0.15747791],\n",
       "       [0.15747791, 1.        ]])"
      ]
     },
     "execution_count": 47,
     "metadata": {},
     "output_type": "execute_result"
    }
   ],
   "execution_count": 47
  },
  {
   "metadata": {},
   "cell_type": "markdown",
   "source": [
    "### This code cell performs the task of:\n",
    " - creating a scatter plot"
   ]
  },
  {
   "cell_type": "code",
   "metadata": {
    "ExecuteTime": {
     "end_time": "2024-11-10T05:30:07.344764Z",
     "start_time": "2024-11-10T05:30:07.042185Z"
    }
   },
   "source": "sns.scatterplot(x= preds, y= labels_valid)",
   "outputs": [
    {
     "data": {
      "text/plain": [
       "<Axes: >"
      ]
     },
     "execution_count": 48,
     "metadata": {},
     "output_type": "execute_result"
    },
    {
     "data": {
      "text/plain": [
       "<Figure size 640x480 with 1 Axes>"
      ],
      "image/png": "[encoded data removed]"
     },
     "metadata": {},
     "output_type": "display_data"
    }
   ],
   "execution_count": 48
  },
  {
   "metadata": {},
   "cell_type": "markdown",
   "source": [
    "This code block calculates and prints the proportion of positive labels (i.e., labels_valid equal to 1) for different threshold values applied to the predictions (preds). Here's a step-by-step explanation:  \n",
    "1. cat_quantity = sum(labels_valid): This line calculates the total number of positive labels in labels_valid.  \n",
    "2. The for loop iterates over a range of threshold values from 0.1 to 0.9 (in increments of 0.1).  \n",
    "3. Inside the loop:  \n",
    "- ```print('threshold :'+str(.1*i))``` This line prints the current threshold value.\n",
    "- ```print(sum(labels_valid[preds > .1*i])/labels_valid[preds > .1*i].shape[0])```: This line calculates and prints the proportion of positive labels for predictions greater than the current threshold. \n",
    "    - It does this by:\n",
    "        - Filtering labels_valid to include only those entries where the corresponding preds value is greater than the current threshold (.1*i).\n",
    "        - Summing the filtered labels_valid values to get the count of positive labels.\n",
    "        - Dividing this count by the total number of filtered entries to get the proportion of positive labels.\n",
    "        - The output will show how the proportion of positive labels changes as the threshold increases."
   ]
  },
  {
   "cell_type": "code",
   "metadata": {
    "ExecuteTime": {
     "end_time": "2024-11-10T05:30:07.382485Z",
     "start_time": "2024-11-10T05:30:07.377190Z"
    }
   },
   "source": [
    "cat_quantity = sum(labels_valid)\n",
    "\n",
    "for i in range(1,10):\n",
    "    print('threshold :'+str(.1*i))\n",
    "    print(sum(labels_valid[preds > .1*i])/labels_valid[preds > .1*i].shape[0])"
   ],
   "outputs": [
    {
     "name": "stdout",
     "output_type": "stream",
     "text": [
      "threshold :0.1\n",
      "0.5511363636363636\n",
      "threshold :0.2\n",
      "0.5538221528861155\n",
      "threshold :0.30000000000000004\n",
      "0.5580204778156996\n",
      "threshold :0.4\n",
      "0.5582255083179297\n",
      "threshold :0.5\n",
      "0.5708661417322834\n",
      "threshold :0.6000000000000001\n",
      "0.5787234042553191\n",
      "threshold :0.7000000000000001\n",
      "0.5839080459770115\n",
      "threshold :0.8\n",
      "0.5862068965517241\n",
      "threshold :0.9\n",
      "0.5814696485623003\n"
     ]
    }
   ],
   "execution_count": 49
  },
  {
   "metadata": {},
   "cell_type": "markdown",
   "source": [
    "### This code cell performs the task of:\n",
    " - printing the mean of the predictions\n",
    "    - The mean of the predictions for the negative class (labels equal to 0)\n",
    "        - The mean of the predictions for the positive class (labels equal to 1)"
   ]
  },
  {
   "cell_type": "code",
   "metadata": {
    "ExecuteTime": {
     "end_time": "2024-11-10T05:30:07.512153Z",
     "start_time": "2024-11-10T05:30:07.504886Z"
    }
   },
   "source": [
    "print(preds.mean())\n",
    "print(preds[labels_valid == 0].mean())\n",
    "print(preds[labels_valid == 1].mean())"
   ],
   "outputs": [
    {
     "name": "stdout",
     "output_type": "stream",
     "text": [
      "0.49656576\n",
      "0.4324331\n",
      "0.56069845\n"
     ]
    }
   ],
   "execution_count": 50
  },
  {
   "cell_type": "markdown",
   "metadata": {},
   "source": "# Bigger Convolutional Model"
  },
  {
   "metadata": {},
   "cell_type": "markdown",
   "source": [
    "### This code cell performs the task of:\n",
    " - defining a bigger convolutional neural network model using TensorFlow and Keras. \n",
    "    - The model consists of: \n",
    "        - an input layer, \n",
    "        - two convolutional layers with ReLU activation, \n",
    "        - two max pooling layers, \n",
    "        - a flattening layer, \n",
    "        - and two dense layers with ReLU activation, \n",
    "        - followed by an output layer with sigmoid activation."
   ]
  },
  {
   "cell_type": "code",
   "metadata": {
    "ExecuteTime": {
     "end_time": "2024-11-10T05:30:07.667857Z",
     "start_time": "2024-11-10T05:30:07.616722Z"
    }
   },
   "source": [
    "fc_layer_size = 256\n",
    "img_size = IMG_SIZE\n",
    "\n",
    "conv_inputs = keras.Input(shape=(img_size[1], img_size[0],3), name='ani_image')\n",
    "conv_layer = layers.Conv2D(48, kernel_size=3, activation='relu')(conv_inputs)\n",
    "conv_layer = layers.MaxPool2D(pool_size=(2,2))(conv_layer)\n",
    "\n",
    "conv_layer = layers.Conv2D(48, kernel_size=3, activation='relu')(conv_layer)\n",
    "conv_layer = layers.MaxPool2D(pool_size=(2,2))(conv_layer)\n",
    "\n",
    "conv_x = layers.Flatten(name = 'flattened_features')(conv_layer) #turn image to vector.\n",
    "\n",
    "conv_x = layers.Dense(fc_layer_size, activation='relu', name='first_layer')(conv_x)\n",
    "conv_x = layers.Dense(fc_layer_size, activation='relu', name='second_layer')(conv_x)\n",
    "conv_outputs = layers.Dense(1, activation='sigmoid', name='class')(conv_x)\n",
    "\n",
    "conv_model = keras.Model(inputs=conv_inputs, outputs=conv_outputs)"
   ],
   "outputs": [],
   "execution_count": 51
  },
  {
   "metadata": {},
   "cell_type": "markdown",
   "source": [
    "### Changes:\n",
    "- lr was not recognised so it was changed to learning_rate"
   ]
  },
  {
   "metadata": {},
   "cell_type": "markdown",
   "source": [
    "### This code cell performs the task of:\n",
    " - compiling a convolutional neural network model using the Adam optimizer with a learning rate of 1e-6, the binary cross-entropy loss function, and monitors both binary cross-entropy and mean squared error as metrics."
   ]
  },
  {
   "cell_type": "code",
   "metadata": {
    "ExecuteTime": {
     "end_time": "2024-11-10T05:30:07.691792Z",
     "start_time": "2024-11-10T05:30:07.685661Z"
    }
   },
   "source": [
    "customAdam = keras.optimizers.Adam(learning_rate=1e-6)\n",
    "conv_model.compile(optimizer=customAdam,  # Optimizer\n",
    "              # Loss function to minimize\n",
    "              loss=\"binary_crossentropy\",\n",
    "              # List of metrics to monitor\n",
    "              metrics=[\"binary_crossentropy\",\"mean_squared_error\"])"
   ],
   "outputs": [],
   "execution_count": 52
  },
  {
   "metadata": {},
   "cell_type": "markdown",
   "source": [
    "### Changes:\n",
    "- Reshape labels_train to match the model's output shape\n",
    "\n",
    "### This code cell performs the task of:\n",
    " - This code cell performs the task of fitting the convolutional neural network model on the training data. It reshapes the labels_train and labels_valid arrays to match the output shape of the model, prints a message indicating that the model is being fit on the training data, and then fits the model using the training data and validation data."
   ]
  },
  {
   "cell_type": "code",
   "metadata": {
    "ExecuteTime": {
     "end_time": "2024-11-10T05:32:49.655801Z",
     "start_time": "2024-11-10T05:30:07.750284Z"
    }
   },
   "source": [
    "# Fit model on training data\n",
    "print('# Fit model on training data')\n",
    "\n",
    "# Reshape labels_train to match the model's output shape\n",
    "labels_train = labels_train.reshape(-1, 1)\n",
    "labels_valid = labels_valid.reshape(-1, 1)\n",
    "\n",
    "history = conv_model.fit(x_train, \n",
    "                    labels_train, # we pass it the labels\n",
    "                    # If the model is taking forever to train, make this bigger\n",
    "                    # If it is taking forever to load for the first epoch, make this smaller\n",
    "                    batch_size=64, \n",
    "                    shuffle=True,\n",
    "                    epochs=15,\n",
    "                    # We pass it validation data to\n",
    "                    # monitor loss and metrics\n",
    "                    # at the end of each epoch\n",
    "                    validation_data=(x_valid, labels_valid))"
   ],
   "outputs": [
    {
     "name": "stdout",
     "output_type": "stream",
     "text": [
      "# Fit model on training data\n",
      "Epoch 1/15\n",
      "\u001B[1m64/64\u001B[0m \u001B[32m━━━━━━━━━━━━━━━━━━━━\u001B[0m\u001B[37m\u001B[0m \u001B[1m13s\u001B[0m 179ms/step - binary_crossentropy: 3.5265 - loss: 3.5265 - mean_squared_error: 0.4479 - val_binary_crossentropy: 2.4340 - val_loss: 2.4340 - val_mean_squared_error: 0.4133\n",
      "Epoch 2/15\n",
      "\u001B[1m64/64\u001B[0m \u001B[32m━━━━━━━━━━━━━━━━━━━━\u001B[0m\u001B[37m\u001B[0m \u001B[1m13s\u001B[0m 198ms/step - binary_crossentropy: 2.2610 - loss: 2.2610 - mean_squared_error: 0.4020 - val_binary_crossentropy: 2.1302 - val_loss: 2.1302 - val_mean_squared_error: 0.4056\n",
      "Epoch 3/15\n",
      "\u001B[1m64/64\u001B[0m \u001B[32m━━━━━━━━━━━━━━━━━━━━\u001B[0m\u001B[37m\u001B[0m \u001B[1m12s\u001B[0m 187ms/step - binary_crossentropy: 1.9817 - loss: 1.9817 - mean_squared_error: 0.3794 - val_binary_crossentropy: 2.0068 - val_loss: 2.0068 - val_mean_squared_error: 0.3945\n",
      "Epoch 4/15\n",
      "\u001B[1m64/64\u001B[0m \u001B[32m━━━━━━━━━━━━━━━━━━━━\u001B[0m\u001B[37m\u001B[0m \u001B[1m9s\u001B[0m 146ms/step - binary_crossentropy: 1.7567 - loss: 1.7567 - mean_squared_error: 0.3579 - val_binary_crossentropy: 1.8798 - val_loss: 1.8798 - val_mean_squared_error: 0.3853\n",
      "Epoch 5/15\n",
      "\u001B[1m64/64\u001B[0m \u001B[32m━━━━━━━━━━━━━━━━━━━━\u001B[0m\u001B[37m\u001B[0m \u001B[1m11s\u001B[0m 168ms/step - binary_crossentropy: 1.6154 - loss: 1.6154 - mean_squared_error: 0.3512 - val_binary_crossentropy: 1.7489 - val_loss: 1.7489 - val_mean_squared_error: 0.3748\n",
      "Epoch 6/15\n",
      "\u001B[1m64/64\u001B[0m \u001B[32m━━━━━━━━━━━━━━━━━━━━\u001B[0m\u001B[37m\u001B[0m \u001B[1m13s\u001B[0m 196ms/step - binary_crossentropy: 1.4272 - loss: 1.4272 - mean_squared_error: 0.3246 - val_binary_crossentropy: 1.6745 - val_loss: 1.6745 - val_mean_squared_error: 0.3654\n",
      "Epoch 7/15\n",
      "\u001B[1m64/64\u001B[0m \u001B[32m━━━━━━━━━━━━━━━━━━━━\u001B[0m\u001B[37m\u001B[0m \u001B[1m10s\u001B[0m 156ms/step - binary_crossentropy: 1.3896 - loss: 1.3896 - mean_squared_error: 0.3240 - val_binary_crossentropy: 1.6428 - val_loss: 1.6428 - val_mean_squared_error: 0.3647\n",
      "Epoch 8/15\n",
      "\u001B[1m64/64\u001B[0m \u001B[32m━━━━━━━━━━━━━━━━━━━━\u001B[0m\u001B[37m\u001B[0m \u001B[1m11s\u001B[0m 165ms/step - binary_crossentropy: 1.2761 - loss: 1.2761 - mean_squared_error: 0.3099 - val_binary_crossentropy: 1.5925 - val_loss: 1.5925 - val_mean_squared_error: 0.3608\n",
      "Epoch 9/15\n",
      "\u001B[1m64/64\u001B[0m \u001B[32m━━━━━━━━━━━━━━━━━━━━\u001B[0m\u001B[37m\u001B[0m \u001B[1m11s\u001B[0m 172ms/step - binary_crossentropy: 1.2291 - loss: 1.2291 - mean_squared_error: 0.2997 - val_binary_crossentropy: 1.5809 - val_loss: 1.5809 - val_mean_squared_error: 0.3580\n",
      "Epoch 10/15\n",
      "\u001B[1m64/64\u001B[0m \u001B[32m━━━━━━━━━━━━━━━━━━━━\u001B[0m\u001B[37m\u001B[0m \u001B[1m10s\u001B[0m 163ms/step - binary_crossentropy: 1.1931 - loss: 1.1931 - mean_squared_error: 0.2964 - val_binary_crossentropy: 1.5216 - val_loss: 1.5216 - val_mean_squared_error: 0.3517\n",
      "Epoch 11/15\n",
      "\u001B[1m64/64\u001B[0m \u001B[32m━━━━━━━━━━━━━━━━━━━━\u001B[0m\u001B[37m\u001B[0m \u001B[1m10s\u001B[0m 149ms/step - binary_crossentropy: 1.0970 - loss: 1.0970 - mean_squared_error: 0.2785 - val_binary_crossentropy: 1.5163 - val_loss: 1.5163 - val_mean_squared_error: 0.3494\n",
      "Epoch 12/15\n",
      "\u001B[1m64/64\u001B[0m \u001B[32m━━━━━━━━━━━━━━━━━━━━\u001B[0m\u001B[37m\u001B[0m \u001B[1m10s\u001B[0m 153ms/step - binary_crossentropy: 1.0905 - loss: 1.0905 - mean_squared_error: 0.2812 - val_binary_crossentropy: 1.4879 - val_loss: 1.4879 - val_mean_squared_error: 0.3481\n",
      "Epoch 13/15\n",
      "\u001B[1m64/64\u001B[0m \u001B[32m━━━━━━━━━━━━━━━━━━━━\u001B[0m\u001B[37m\u001B[0m \u001B[1m10s\u001B[0m 154ms/step - binary_crossentropy: 1.0451 - loss: 1.0451 - mean_squared_error: 0.2694 - val_binary_crossentropy: 1.4860 - val_loss: 1.4860 - val_mean_squared_error: 0.3445\n",
      "Epoch 14/15\n",
      "\u001B[1m64/64\u001B[0m \u001B[32m━━━━━━━━━━━━━━━━━━━━\u001B[0m\u001B[37m\u001B[0m \u001B[1m10s\u001B[0m 151ms/step - binary_crossentropy: 1.0371 - loss: 1.0371 - mean_squared_error: 0.2697 - val_binary_crossentropy: 1.4691 - val_loss: 1.4691 - val_mean_squared_error: 0.3445\n",
      "Epoch 15/15\n",
      "\u001B[1m64/64\u001B[0m \u001B[32m━━━━━━━━━━━━━━━━━━━━\u001B[0m\u001B[37m\u001B[0m \u001B[1m11s\u001B[0m 167ms/step - binary_crossentropy: 0.9632 - loss: 0.9632 - mean_squared_error: 0.2574 - val_binary_crossentropy: 1.4484 - val_loss: 1.4484 - val_mean_squared_error: 0.3413\n"
     ]
    }
   ],
   "execution_count": 53
  },
  {
   "metadata": {},
   "cell_type": "markdown",
   "source": [
    "### This code cell performs the task of:\n",
    " - calculating the correlation coefficient"
   ]
  },
  {
   "cell_type": "code",
   "metadata": {
    "ExecuteTime": {
     "end_time": "2024-11-10T05:32:50.533032Z",
     "start_time": "2024-11-10T05:32:49.689755Z"
    }
   },
   "source": [
    "import numpy as np\n",
    "import seaborn as sns\n",
    "\n",
    "# Ensure preds and labels_valid are 1-dimensional\n",
    "preds = np.asarray(preds).flatten()\n",
    "labels_valid = np.asarray(labels_valid).flatten()\n",
    "\n",
    "# Predict values\n",
    "preds = conv_model.predict(x_valid)\n",
    "preds = np.asarray([pred[0] for pred in preds])\n",
    "\n",
    "# Calculate correlation coefficient\n",
    "np.corrcoef(preds, labels_valid)"
   ],
   "outputs": [
    {
     "name": "stdout",
     "output_type": "stream",
     "text": [
      "\u001B[1m32/32\u001B[0m \u001B[32m━━━━━━━━━━━━━━━━━━━━\u001B[0m\u001B[37m\u001B[0m \u001B[1m1s\u001B[0m 22ms/step\n"
     ]
    },
    {
     "data": {
      "text/plain": [
       "array([[1.        , 0.18105185],\n",
       "       [0.18105185, 1.        ]])"
      ]
     },
     "execution_count": 54,
     "metadata": {},
     "output_type": "execute_result"
    }
   ],
   "execution_count": 54
  },
  {
   "metadata": {},
   "cell_type": "markdown",
   "source": [
    "### This code cell performs the task of:\n",
    " - creating a scatter plot"
   ]
  },
  {
   "cell_type": "code",
   "metadata": {
    "ExecuteTime": {
     "end_time": "2024-11-10T05:32:50.780243Z",
     "start_time": "2024-11-10T05:32:50.603588Z"
    }
   },
   "source": [
    "sns.scatterplot(x= preds, y= labels_valid)"
   ],
   "outputs": [
    {
     "data": {
      "text/plain": [
       "<Axes: >"
      ]
     },
     "execution_count": 55,
     "metadata": {},
     "output_type": "execute_result"
    },
    {
     "data": {
      "text/plain": [
       "<Figure size 640x480 with 1 Axes>"
      ],
      "image/png": "[encoded data removed]"
     },
     "metadata": {},
     "output_type": "display_data"
    }
   ],
   "execution_count": 55
  },
  {
   "metadata": {},
   "cell_type": "markdown",
   "source": [
    "### This code cell performs the task of:\n",
    " - calculating the mean of the predictions"
   ]
  },
  {
   "cell_type": "code",
   "metadata": {
    "ExecuteTime": {
     "end_time": "2024-11-10T05:32:50.954786Z",
     "start_time": "2024-11-10T05:32:50.950930Z"
    }
   },
   "source": [
    "print(preds.mean())\n",
    "print(preds[labels_valid == 0].mean())\n",
    "print(preds[labels_valid == 1].mean())"
   ],
   "outputs": [
    {
     "name": "stdout",
     "output_type": "stream",
     "text": [
      "0.46441218\n",
      "0.39128095\n",
      "0.5375434\n"
     ]
    }
   ],
   "execution_count": 56
  },
  {
   "metadata": {},
   "cell_type": "markdown",
   "source": [
    "T### This code cell performs the task of:\n",
    " - calculating and printing the proportion of positive labels (i.e., `labels_valid` equal to 1) for different threshold values applied to the predictions (`preds`). Here's a step-by-step explanation:\n",
    "\n",
    "    1. `cat_quantity = sum(labels_valid)`: This line calculates the total number of positive labels in `labels_valid`.\n",
    "\n",
    "    2. The `for` loop iterates over a range of threshold values from 0.1 to 0.9 (in increments of 0.1).\n",
    "\n",
    "    3. Inside the loop:\n",
    "        - `print('threshold :'+str(.1*i))`: This line prints the current threshold value.\n",
    "        - `print(sum(labels_valid[preds > .1*i])/labels_valid[preds > .1*i].shape[0])`: This line calculates and prints the proportion of positive labels for predictions greater than the current threshold. It does this by:\n",
    "            - Filtering `labels_valid` to include only those entries where the corresponding `preds` value is greater than the current threshold (`.1*i`).\n",
    "            - Summing the filtered `labels_valid` values to get the count of positive labels.\n",
    "            - Dividing this count by the total number of filtered entries to get the proportion of positive labels.\n",
    "\n",
    "The output shows how the proportion of positive labels changes as the threshold increases."
   ]
  },
  {
   "cell_type": "code",
   "metadata": {
    "ExecuteTime": {
     "end_time": "2024-11-10T05:32:51.067953Z",
     "start_time": "2024-11-10T05:32:51.061719Z"
    }
   },
   "source": [
    "cat_quantity = sum(labels_valid)\n",
    "\n",
    "for i in range(1,10):\n",
    "    print('threshold :'+str(.1*i))\n",
    "    print(sum(labels_valid[preds > .1*i])/labels_valid[preds > .1*i].shape[0])"
   ],
   "outputs": [
    {
     "name": "stdout",
     "output_type": "stream",
     "text": [
      "threshold :0.1\n",
      "0.5567164179104478\n",
      "threshold :0.2\n",
      "0.560200668896321\n",
      "threshold :0.30000000000000004\n",
      "0.5727272727272728\n",
      "threshold :0.4\n",
      "0.5756385068762279\n",
      "threshold :0.5\n",
      "0.5864978902953587\n",
      "threshold :0.6000000000000001\n",
      "0.5833333333333334\n",
      "threshold :0.7000000000000001\n",
      "0.5984848484848485\n",
      "threshold :0.8\n",
      "0.6127167630057804\n",
      "threshold :0.9\n",
      "0.6410256410256411\n"
     ]
    }
   ],
   "execution_count": 57
  },
  {
   "metadata": {},
   "cell_type": "markdown",
   "source": [
    "### This code cell performs the task of:\n",
    "  - The animal_pic function returns an image from the validation set at a given index\n",
    "  - the cat_index function predicts the probability of the image at index 124 being a cat using the conv_model."
   ]
  },
  {
   "cell_type": "code",
   "metadata": {
    "ExecuteTime": {
     "end_time": "2024-11-10T05:32:51.148784Z",
     "start_time": "2024-11-10T05:32:51.142782Z"
    }
   },
   "source": [
    "def animal_pic(index):\n",
    "    return Image.fromarray(x_valid[index])\n",
    "def cat_index(index):\n",
    "    return conv_model.predict(np.asarray([x_valid[124]]))[0][0]"
   ],
   "outputs": [],
   "execution_count": 58
  },
  {
   "metadata": {},
   "cell_type": "markdown",
   "source": [
    "### Changes:\n",
    "- added .keras to the file name\n",
    "\n",
    "### This code cell performs the task of:\n",
    " - saving the model to a file named 'conv_model_big.keras'."
   ]
  },
  {
   "cell_type": "code",
   "metadata": {
    "ExecuteTime": {
     "end_time": "2024-11-10T05:32:51.800955Z",
     "start_time": "2024-11-10T05:32:51.222839Z"
    }
   },
   "source": "conv_model.save('conv_model_big.keras')",
   "outputs": [],
   "execution_count": 59
  },
  {
   "metadata": {},
   "cell_type": "markdown",
   "source": [
    "### This code cell performs the task of:\n",
    " - printing the probability of the image at index 600 being a cat and displays the image."
   ]
  },
  {
   "cell_type": "code",
   "metadata": {
    "ExecuteTime": {
     "end_time": "2024-11-10T05:32:52.084118Z",
     "start_time": "2024-11-10T05:32:51.918690Z"
    }
   },
   "source": [
    "index = 600\n",
    "print(\"probability of being a cat: {}\".format(cat_index(index)))\n",
    "animal_pic(index)"
   ],
   "outputs": [
    {
     "name": "stdout",
     "output_type": "stream",
     "text": [
      "\u001B[1m1/1\u001B[0m \u001B[32m━━━━━━━━━━━━━━━━━━━━\u001B[0m\u001B[37m\u001B[0m \u001B[1m0s\u001B[0m 86ms/step\n",
      "probability of being a cat: 0.9005081653594971\n"
     ]
    },
    {
     "data": {
      "text/plain": [
       "<PIL.Image.Image image mode=RGB size=94x125>"
      ],
      "image/png": "[encoded data removed]",
      "image/jpeg": "[encoded data removed]"
     },
     "execution_count": 60,
     "metadata": {},
     "output_type": "execute_result"
    }
   ],
   "execution_count": 60
  },
  {
   "metadata": {},
   "cell_type": "markdown",
   "source": [
    "### This code cell performs the task of:\n",
    " - predicting the probability of the image at index 124 in the validation set being a cat using the convolutional neural network model."
   ]
  },
  {
   "cell_type": "code",
   "metadata": {
    "ExecuteTime": {
     "end_time": "2024-11-10T05:32:52.297880Z",
     "start_time": "2024-11-10T05:32:52.229881Z"
    }
   },
   "source": [
    "conv_model.predict(np.asarray([x_valid[124]]))[0][0]"
   ],
   "outputs": [
    {
     "name": "stdout",
     "output_type": "stream",
     "text": [
      "\u001B[1m1/1\u001B[0m \u001B[32m━━━━━━━━━━━━━━━━━━━━\u001B[0m\u001B[37m\u001B[0m \u001B[1m0s\u001B[0m 25ms/step\n"
     ]
    },
    {
     "data": {
      "text/plain": [
       "0.90050817"
      ]
     },
     "execution_count": 61,
     "metadata": {},
     "output_type": "execute_result"
    }
   ],
   "execution_count": 61
  },
  {
   "metadata": {},
   "cell_type": "markdown",
   "source": [
    "### Changes:\n",
    "- added .keras to the file name\n",
    "\n",
    "### This code cell performs the task of:\n",
    " - loading the 'conv_model_big.keras' model from file."
   ]
  },
  {
   "cell_type": "code",
   "metadata": {
    "ExecuteTime": {
     "end_time": "2024-11-10T05:32:52.583825Z",
     "start_time": "2024-11-10T05:32:52.361925Z"
    }
   },
   "source": "big_model = keras.models.load_model('conv_model_big.keras')",
   "outputs": [],
   "execution_count": 62
  },
  {
   "cell_type": "markdown",
   "metadata": {},
   "source": [
    "# Huge Model\n",
    "\n",
    "### This code cell performs the task of:\n",
    " - defining a convolutional neural network model using TensorFlow and Keras.\n",
    "   - The model consists of an input layer, two convolutional layers with ReLU activation, two max pooling layers, a flattening layer, two dense layers with ReLU activation, and an output layer with sigmoid activation."
   ]
  },
  {
   "cell_type": "code",
   "metadata": {
    "ExecuteTime": {
     "end_time": "2024-11-10T05:32:52.687035Z",
     "start_time": "2024-11-10T05:32:52.625885Z"
    }
   },
   "source": [
    "fc_layer_size = 256\n",
    "img_size = IMG_SIZE\n",
    "\n",
    "conv_inputs = keras.Input(shape=(img_size[1], img_size[0],3), name='ani_image')\n",
    "conv_layer = layers.Conv2D(128, kernel_size=3, activation='relu')(conv_inputs)\n",
    "conv_layer = layers.MaxPool2D(pool_size=(2,2))(conv_layer)\n",
    "\n",
    "conv_layer = layers.Conv2D(128, kernel_size=3, activation='relu')(conv_layer)\n",
    "conv_layer = layers.MaxPool2D(pool_size=(2,2))(conv_layer)\n",
    "\n",
    "conv_x = layers.Flatten(name = 'flattened_features')(conv_layer) #turn image to vector.\n",
    "\n",
    "conv_x = layers.Dense(fc_layer_size, activation='relu', name='first_layer')(conv_x)\n",
    "conv_x = layers.Dense(fc_layer_size, activation='relu', name='second_layer')(conv_x)\n",
    "conv_outputs = layers.Dense(1, activation='sigmoid', name='class')(conv_x)\n",
    "\n",
    "huge_conv_model = keras.Model(inputs=conv_inputs, outputs=conv_outputs)"
   ],
   "outputs": [],
   "execution_count": 63
  },
  {
   "metadata": {},
   "cell_type": "markdown",
   "source": [
    "### Changes:\n",
    "- lr was not recognised so it was changed to learning_rate\n",
    "\n",
    "### This code cell performs the task of:\n",
    " - compiing the huge_conv_model using the Adam optimizer with a learning rate of 1e-6, the binary cross-entropy loss function, and monitors both binary cross-entropy and mean squared error as metrics."
   ]
  },
  {
   "cell_type": "code",
   "metadata": {
    "ExecuteTime": {
     "end_time": "2024-11-10T05:32:52.730304Z",
     "start_time": "2024-11-10T05:32:52.723768Z"
    }
   },
   "source": [
    "customAdam = keras.optimizers.Adam(learning_rate=1e-6)\n",
    "huge_conv_model.compile(optimizer=customAdam,  # Optimizer\n",
    "              # Loss function to minimize\n",
    "              loss=\"binary_crossentropy\",\n",
    "              # List of metrics to monitor\n",
    "              metrics=[\"binary_crossentropy\",\"mean_squared_error\"])"
   ],
   "outputs": [],
   "execution_count": 64
  },
  {
   "metadata": {},
   "cell_type": "markdown",
   "source": [
    "### This code cell performs the task of:\n",
    " - reshaping the labels_train and labels_valid arrays to match the output shape of the model, \n",
    " - printing a message indicating that the model is being fit on the training data, \n",
    " - Fitting the model using the training data and validation data.\n",
    "\n",
    "#### Changes:\n",
    "- Reshape labels_train to match the model's output shape"
   ]
  },
  {
   "cell_type": "code",
   "metadata": {
    "ExecuteTime": {
     "end_time": "2024-11-10T05:37:25.786975Z",
     "start_time": "2024-11-10T05:32:52.790760Z"
    }
   },
   "source": [
    "labels_train = labels_train.reshape(-1, 1)\n",
    "labels_valid = labels_valid.reshape(-1, 1)\n",
    "\n",
    "print('# Fit model on training data')\n",
    "\n",
    "history = huge_conv_model.fit(x_train, \n",
    "                    labels_train,\n",
    "                    batch_size=64, \n",
    "                    shuffle = True,\n",
    "                    epochs=5,\n",
    "                    validation_data=(x_valid, labels_valid))"
   ],
   "outputs": [
    {
     "name": "stdout",
     "output_type": "stream",
     "text": [
      "# Fit model on training data\n",
      "Epoch 1/5\n",
      "\u001B[1m64/64\u001B[0m \u001B[32m━━━━━━━━━━━━━━━━━━━━\u001B[0m\u001B[37m\u001B[0m \u001B[1m49s\u001B[0m 743ms/step - binary_crossentropy: 2.0168 - loss: 2.0168 - mean_squared_error: 0.4046 - val_binary_crossentropy: 1.2296 - val_loss: 1.2296 - val_mean_squared_error: 0.3399\n",
      "Epoch 2/5\n",
      "\u001B[1m64/64\u001B[0m \u001B[32m━━━━━━━━━━━━━━━━━━━━\u001B[0m\u001B[37m\u001B[0m \u001B[1m55s\u001B[0m 865ms/step - binary_crossentropy: 1.1234 - loss: 1.1234 - mean_squared_error: 0.3257 - val_binary_crossentropy: 1.0944 - val_loss: 1.0944 - val_mean_squared_error: 0.3181\n",
      "Epoch 3/5\n",
      "\u001B[1m64/64\u001B[0m \u001B[32m━━━━━━━━━━━━━━━━━━━━\u001B[0m\u001B[37m\u001B[0m \u001B[1m56s\u001B[0m 866ms/step - binary_crossentropy: 0.9309 - loss: 0.9309 - mean_squared_error: 0.2808 - val_binary_crossentropy: 0.9745 - val_loss: 0.9745 - val_mean_squared_error: 0.2930\n",
      "Epoch 4/5\n",
      "\u001B[1m64/64\u001B[0m \u001B[32m━━━━━━━━━━━━━━━━━━━━\u001B[0m\u001B[37m\u001B[0m \u001B[1m58s\u001B[0m 904ms/step - binary_crossentropy: 0.8335 - loss: 0.8335 - mean_squared_error: 0.2599 - val_binary_crossentropy: 0.9988 - val_loss: 0.9988 - val_mean_squared_error: 0.2973\n",
      "Epoch 5/5\n",
      "\u001B[1m64/64\u001B[0m \u001B[32m━━━━━━━━━━━━━━━━━━━━\u001B[0m\u001B[37m\u001B[0m \u001B[1m55s\u001B[0m 858ms/step - binary_crossentropy: 0.7925 - loss: 0.7925 - mean_squared_error: 0.2498 - val_binary_crossentropy: 1.0099 - val_loss: 1.0099 - val_mean_squared_error: 0.2979\n"
     ]
    }
   ],
   "execution_count": 65
  },
  {
   "metadata": {},
   "cell_type": "markdown",
   "source": [
    "### Changes:\n",
    "- Flatten the predictions to match the shape of the labels\n",
    "\n",
    "### This code cell performs the task of:\n",
    " - ensuring that preds and labels_valid are 1-dimensional, predicting values using the huge_conv_model, flattening the predictions, and calculating the correlation coefficient between the predictions and the validation labels."
   ]
  },
  {
   "cell_type": "code",
   "metadata": {
    "ExecuteTime": {
     "end_time": "2024-11-10T05:37:29.477836Z",
     "start_time": "2024-11-10T05:37:25.804621Z"
    }
   },
   "source": [
    "import numpy as np\n",
    "\n",
    "# Ensure preds and labels_valid are 1-dimensional\n",
    "preds = np.asarray(preds).flatten()\n",
    "labels_valid = np.asarray(labels_valid).flatten()\n",
    "\n",
    "preds = huge_conv_model.predict(x_valid)\n",
    "preds = np.asarray([pred[0] for pred in preds])\n",
    "np.corrcoef(preds, labels_valid)"
   ],
   "outputs": [
    {
     "name": "stdout",
     "output_type": "stream",
     "text": [
      "\u001B[1m32/32\u001B[0m \u001B[32m━━━━━━━━━━━━━━━━━━━━\u001B[0m\u001B[37m\u001B[0m \u001B[1m4s\u001B[0m 109ms/step\n"
     ]
    },
    {
     "data": {
      "text/plain": [
       "array([[1.        , 0.24549268],\n",
       "       [0.24549268, 1.        ]])"
      ]
     },
     "execution_count": 66,
     "metadata": {},
     "output_type": "execute_result"
    }
   ],
   "execution_count": 66
  },
  {
   "metadata": {},
   "cell_type": "markdown",
   "source": [
    "### This code cell performs the task of:\n",
    " - printing the mean of the predictions, the mean of the predictions for the negative class (labels equal to 0), and the mean of the predictions for the positive class (labels equal to 1)."
   ]
  },
  {
   "cell_type": "code",
   "metadata": {
    "ExecuteTime": {
     "end_time": "2024-11-10T05:37:29.570181Z",
     "start_time": "2024-11-10T05:37:29.561971Z"
    }
   },
   "source": [
    "print(preds.mean())\n",
    "print(preds[labels_valid == 0].mean())\n",
    "print(preds[labels_valid == 1].mean())"
   ],
   "outputs": [
    {
     "name": "stdout",
     "output_type": "stream",
     "text": [
      "0.6557993\n",
      "0.57737815\n",
      "0.7342205\n"
     ]
    }
   ],
   "execution_count": 67
  },
  {
   "metadata": {},
   "cell_type": "markdown",
   "source": [
    "This code cell performs the task of calculating and printing the proportion of positive labels (i.e., labels_valid equal to 1) for different threshold values applied to the predictions (preds). Here's a step-by-step explanation:  \n",
    "1. `cat_quantity = sum(labels_valid)`: This line calculates the total number of positive labels in labels_valid.  \n",
    "2. The for loop iterates over a range of threshold values from 0.1 to 0.9 (in increments of 0.1).  \n",
    "3. Inside the loop:  \n",
    "    `print('threshold :'+str(.1*i))`: This line prints the current threshold value.\n",
    "    `print(sum(labels_valid[preds > .1*i])/labels_valid[preds > .1*i].shape[0])`: This line calculates and prints the proportion of positive labels for predictions greater than the current threshold.\n",
    " - It does this by:\n",
    "    - Filtering labels_valid to include only those entries where the corresponding preds value is greater than the current threshold `(.1*i)`.\n",
    "    - Summing the filtered labels_valid values to get the count of positive labels.\n",
    "    - Dividing this count by the total number of filtered entries to get the proportion of positive labels."
   ]
  },
  {
   "cell_type": "code",
   "metadata": {
    "ExecuteTime": {
     "end_time": "2024-11-10T05:37:29.699705Z",
     "start_time": "2024-11-10T05:37:29.693649Z"
    }
   },
   "source": [
    "cat_quantity = sum(labels_valid)\n",
    "\n",
    "for i in range(1,10):\n",
    "    print('threshold :'+str(.1*i))\n",
    "    print(sum(labels_valid[preds > .1*i])/labels_valid[preds > .1*i].shape[0])"
   ],
   "outputs": [
    {
     "name": "stdout",
     "output_type": "stream",
     "text": [
      "threshold :0.1\n",
      "0.5202558635394456\n",
      "threshold :0.2\n",
      "0.5310344827586206\n",
      "threshold :0.30000000000000004\n",
      "0.5453446191051995\n",
      "threshold :0.4\n",
      "0.5544041450777202\n",
      "threshold :0.5\n",
      "0.5592747559274756\n",
      "threshold :0.6000000000000001\n",
      "0.583206106870229\n",
      "threshold :0.7000000000000001\n",
      "0.5975395430579965\n",
      "threshold :0.8\n",
      "0.6321353065539113\n",
      "threshold :0.9\n",
      "0.6447761194029851\n"
     ]
    }
   ],
   "execution_count": 68
  },
  {
   "metadata": {},
   "cell_type": "markdown",
   "source": [
    "### Changes:\n",
    "- added .keras to the file name\n",
    "\n",
    "### This code cell performs the task of:\n",
    " - saving the huge_conv_model to a file named 'conv_model_huge_e13.keras'."
   ]
  },
  {
   "cell_type": "code",
   "metadata": {
    "ExecuteTime": {
     "end_time": "2024-11-10T05:37:31.707888Z",
     "start_time": "2024-11-10T05:37:29.750863Z"
    }
   },
   "source": "huge_conv_model.save('conv_model_huge_e13.keras')",
   "outputs": [],
   "execution_count": 69
  },
  {
   "metadata": {},
   "cell_type": "markdown",
   "source": [
    "### This code cell performs the task of:\n",
    " - loading the 'conv_model_huge_e13.keras' model from file."
   ]
  },
  {
   "cell_type": "code",
   "metadata": {
    "ExecuteTime": {
     "end_time": "2024-11-10T05:37:32.222689Z",
     "start_time": "2024-11-10T05:37:31.731146Z"
    }
   },
   "source": "big_model = keras.models.load_model('conv_model_huge_e13.keras')",
   "outputs": [],
   "execution_count": 70
  },
  {
   "metadata": {},
   "cell_type": "markdown",
   "source": [
    "### This code cell performs the task of:\n",
    " - predicting the probability of the image at index 124 in the validation set being a cat using the big_model."
   ]
  },
  {
   "cell_type": "code",
   "metadata": {
    "ExecuteTime": {
     "end_time": "2024-11-10T05:37:36.095164Z",
     "start_time": "2024-11-10T05:37:32.247083Z"
    }
   },
   "source": [
    "preds = big_model.predict(x_valid)\n",
    "preds = np.asarray([pred[0] for pred in preds])"
   ],
   "outputs": [
    {
     "name": "stdout",
     "output_type": "stream",
     "text": [
      "\u001B[1m32/32\u001B[0m \u001B[32m━━━━━━━━━━━━━━━━━━━━\u001B[0m\u001B[37m\u001B[0m \u001B[1m4s\u001B[0m 116ms/step\n"
     ]
    }
   ],
   "execution_count": 71
  },
  {
   "metadata": {},
   "cell_type": "markdown",
   "source": [
    "### This code cell performs the task of:\n",
    " - calculating and printing the proportion of positive labels (i.e., labels_valid equal to 1) for different threshold values applied to the predictions (preds). Here's a step-by-step explanation:"
   ]
  },
  {
   "cell_type": "code",
   "metadata": {
    "ExecuteTime": {
     "end_time": "2024-11-10T05:37:36.197320Z",
     "start_time": "2024-11-10T05:37:36.191765Z"
    }
   },
   "source": [
    "sum(labels_valid)"
   ],
   "outputs": [
    {
     "data": {
      "text/plain": [
       "512"
      ]
     },
     "execution_count": 72,
     "metadata": {},
     "output_type": "execute_result"
    }
   ],
   "execution_count": 72
  },
  {
   "metadata": {},
   "cell_type": "markdown",
   "source": [
    "### This code cell performs the task of:\n",
    " - calculates and prints the proportion of correct predictions (both true positives and true negatives) for different threshold values applied to the predictions (preds). Here's the code:"
   ]
  },
  {
   "cell_type": "code",
   "metadata": {
    "ExecuteTime": {
     "end_time": "2024-11-10T05:37:36.288058Z",
     "start_time": "2024-11-10T05:37:36.281169Z"
    }
   },
   "source": [
    "for i in range(1,10):\n",
    "    t = .1*i\n",
    "    print(\"{:.1f}:\".format(t))\n",
    "    tp = (preds > t)&(labels_valid==1)\n",
    "    tn = (preds <= t)&(labels_valid==0)\n",
    "    print(np.sum(np.where(tp|tn, 1, 0))/1024.)"
   ],
   "outputs": [
    {
     "name": "stdout",
     "output_type": "stream",
     "text": [
      "0.1:\n",
      "0.537109375\n",
      "0.2:\n",
      "0.552734375\n",
      "0.3:\n",
      "0.5732421875\n",
      "0.4:\n",
      "0.58203125\n",
      "0.5:\n",
      "0.5830078125\n",
      "0.6:\n",
      "0.6064453125\n",
      "0.7:\n",
      "0.6083984375\n",
      "0.8:\n",
      "0.6220703125\n",
      "0.9:\n",
      "0.5947265625\n"
     ]
    }
   ],
   "execution_count": 73
  },
  {
   "metadata": {},
   "cell_type": "markdown",
   "source": [
    "### This code cell performs the task of:\n",
    " -  Reshaping the labels_train and labels_valid arrays to match the output shape of the model,\n",
    "  - printing a message indicating that the model is being fit on the training data,\n",
    "    - fitting the model using the training data and validation data.\n",
    "#### Changes:\n",
    "- Reshaping labels_train to match the model's output shape"
   ]
  },
  {
   "cell_type": "code",
   "metadata": {
    "ExecuteTime": {
     "end_time": "2024-11-10T05:47:16.970372Z",
     "start_time": "2024-11-10T05:37:36.322203Z"
    }
   },
   "source": [
    "# Reshape labels_train to match the model's output shape\n",
    "labels_train = labels_train.reshape(-1, 1)\n",
    "labels_valid = labels_valid.reshape(-1, 1)\n",
    "\n",
    "print('# Fit model on training data')\n",
    "\n",
    "history = big_model.fit(x_train, \n",
    "                    labels_train, #we pass it th labels\n",
    "                    #If the model is taking forever to train, make this bigger\n",
    "                    #If it is taking forever to load for the first epoch, make this smaller\n",
    "                    batch_size=64, \n",
    "                    shuffle = True,\n",
    "                    epochs=10,\n",
    "                    # We pass it validation data to\n",
    "                    # monitor loss and metrics\n",
    "                    # at the end of each epoch\n",
    "                    validation_data=(x_valid, labels_valid))"
   ],
   "outputs": [
    {
     "name": "stdout",
     "output_type": "stream",
     "text": [
      "# Fit model on training data\n",
      "Epoch 1/10\n",
      "\u001B[1m64/64\u001B[0m \u001B[32m━━━━━━━━━━━━━━━━━━━━\u001B[0m\u001B[37m\u001B[0m \u001B[1m58s\u001B[0m 878ms/step - binary_crossentropy: 0.7665 - loss: 0.7665 - mean_squared_error: 0.2435 - val_binary_crossentropy: 0.9438 - val_loss: 0.9438 - val_mean_squared_error: 0.2855\n",
      "Epoch 2/10\n",
      "\u001B[1m64/64\u001B[0m \u001B[32m━━━━━━━━━━━━━━━━━━━━\u001B[0m\u001B[37m\u001B[0m \u001B[1m58s\u001B[0m 911ms/step - binary_crossentropy: 0.7079 - loss: 0.7079 - mean_squared_error: 0.2263 - val_binary_crossentropy: 0.9105 - val_loss: 0.9105 - val_mean_squared_error: 0.2755\n",
      "Epoch 3/10\n",
      "\u001B[1m64/64\u001B[0m \u001B[32m━━━━━━━━━━━━━━━━━━━━\u001B[0m\u001B[37m\u001B[0m \u001B[1m53s\u001B[0m 835ms/step - binary_crossentropy: 0.6598 - loss: 0.6598 - mean_squared_error: 0.2135 - val_binary_crossentropy: 0.8389 - val_loss: 0.8389 - val_mean_squared_error: 0.2600\n",
      "Epoch 4/10\n",
      "\u001B[1m64/64\u001B[0m \u001B[32m━━━━━━━━━━━━━━━━━━━━\u001B[0m\u001B[37m\u001B[0m \u001B[1m60s\u001B[0m 932ms/step - binary_crossentropy: 0.5966 - loss: 0.5966 - mean_squared_error: 0.1943 - val_binary_crossentropy: 0.9163 - val_loss: 0.9163 - val_mean_squared_error: 0.2768\n",
      "Epoch 5/10\n",
      "\u001B[1m64/64\u001B[0m \u001B[32m━━━━━━━━━━━━━━━━━━━━\u001B[0m\u001B[37m\u001B[0m \u001B[1m58s\u001B[0m 910ms/step - binary_crossentropy: 0.5908 - loss: 0.5908 - mean_squared_error: 0.1944 - val_binary_crossentropy: 0.8089 - val_loss: 0.8089 - val_mean_squared_error: 0.2535\n",
      "Epoch 6/10\n",
      "\u001B[1m64/64\u001B[0m \u001B[32m━━━━━━━━━━━━━━━━━━━━\u001B[0m\u001B[37m\u001B[0m \u001B[1m62s\u001B[0m 967ms/step - binary_crossentropy: 0.5497 - loss: 0.5497 - mean_squared_error: 0.1802 - val_binary_crossentropy: 0.8048 - val_loss: 0.8048 - val_mean_squared_error: 0.2524\n",
      "Epoch 7/10\n",
      "\u001B[1m64/64\u001B[0m \u001B[32m━━━━━━━━━━━━━━━━━━━━\u001B[0m\u001B[37m\u001B[0m \u001B[1m57s\u001B[0m 891ms/step - binary_crossentropy: 0.4962 - loss: 0.4962 - mean_squared_error: 0.1609 - val_binary_crossentropy: 0.8180 - val_loss: 0.8180 - val_mean_squared_error: 0.2517\n",
      "Epoch 8/10\n",
      "\u001B[1m64/64\u001B[0m \u001B[32m━━━━━━━━━━━━━━━━━━━━\u001B[0m\u001B[37m\u001B[0m \u001B[1m57s\u001B[0m 888ms/step - binary_crossentropy: 0.5009 - loss: 0.5009 - mean_squared_error: 0.1619 - val_binary_crossentropy: 0.7904 - val_loss: 0.7904 - val_mean_squared_error: 0.2464\n",
      "Epoch 9/10\n",
      "\u001B[1m64/64\u001B[0m \u001B[32m━━━━━━━━━━━━━━━━━━━━\u001B[0m\u001B[37m\u001B[0m \u001B[1m62s\u001B[0m 977ms/step - binary_crossentropy: 0.4383 - loss: 0.4383 - mean_squared_error: 0.1408 - val_binary_crossentropy: 0.8169 - val_loss: 0.8169 - val_mean_squared_error: 0.2544\n",
      "Epoch 10/10\n",
      "\u001B[1m64/64\u001B[0m \u001B[32m━━━━━━━━━━━━━━━━━━━━\u001B[0m\u001B[37m\u001B[0m \u001B[1m55s\u001B[0m 858ms/step - binary_crossentropy: 0.4431 - loss: 0.4431 - mean_squared_error: 0.1426 - val_binary_crossentropy: 0.7817 - val_loss: 0.7817 - val_mean_squared_error: 0.2438\n"
     ]
    }
   ],
   "execution_count": 74
  },
  {
   "metadata": {},
   "cell_type": "markdown",
   "source": [
    "### This code cell performs the task of:\n",
    " -  predicting values using the big_model, flattens the predictions and validation labels to ensure they are 1-dimensional, and then calculates the correlation coefficient between the predictions and the validation labels."
   ]
  },
  {
   "cell_type": "code",
   "metadata": {
    "ExecuteTime": {
     "end_time": "2024-11-10T05:47:20.545360Z",
     "start_time": "2024-11-10T05:47:17.009202Z"
    }
   },
   "source": [
    "preds = big_model.predict(x_valid)\n",
    "preds = np.asarray([pred[0] for pred in preds])\n",
    "for i in range(1,10):\n",
    "    t = .1*i\n",
    "    print(\"{:.1f}:\".format(t))\n",
    "    tp = (preds > t)&(labels_valid==1)\n",
    "    tn = (preds <= t)&(labels_valid==0)\n",
    "    print(np.sum(np.where(tp|tn, 1, 0))/1024.)"
   ],
   "outputs": [
    {
     "name": "stdout",
     "output_type": "stream",
     "text": [
      "\u001B[1m32/32\u001B[0m \u001B[32m━━━━━━━━━━━━━━━━━━━━\u001B[0m\u001B[37m\u001B[0m \u001B[1m3s\u001B[0m 105ms/step\n",
      "0.1:\n",
      "512.0\n",
      "0.2:\n",
      "512.0\n",
      "0.3:\n",
      "512.0\n",
      "0.4:\n",
      "512.0\n",
      "0.5:\n",
      "512.0\n",
      "0.6:\n",
      "512.0\n",
      "0.7:\n",
      "512.0\n",
      "0.8:\n",
      "512.0\n",
      "0.9:\n",
      "512.0\n"
     ]
    }
   ],
   "execution_count": 75
  },
  {
   "metadata": {},
   "cell_type": "markdown",
   "source": [
    "### This code cell performs the task of:\n",
    " -  saving the big_model to a file named 'conv_model_big_e19.keras'."
   ]
  },
  {
   "cell_type": "code",
   "metadata": {
    "ExecuteTime": {
     "end_time": "2024-11-10T05:47:21.842398Z",
     "start_time": "2024-11-10T05:47:20.574067Z"
    }
   },
   "source": "big_model.save('conv_model_big_e19.keras')",
   "outputs": [],
   "execution_count": 76
  }
 ],
 "metadata": {
  "kernelspec": {
   "display_name": "Python 3",
   "language": "python",
   "name": "python3"
  },
  "language_info": {
   "codemirror_mode": {
    "name": "ipython",
    "version": 3
   },
   "file_extension": ".py",
   "mimetype": "text/x-python",
   "name": "python",
   "nbconvert_exporter": "python",
   "pygments_lexer": "ipython3",
   "version": "3.6.7"
  }
 },
 "nbformat": 4,
 "nbformat_minor": 2
}

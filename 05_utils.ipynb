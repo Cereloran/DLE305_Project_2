# Any Utility Functions will go here.

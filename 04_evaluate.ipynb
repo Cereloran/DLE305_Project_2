def evaluate_model(model, X_test, y_test):
    return model.evaluate(X_test, y_test)

def display_results(model, X_test, y_test):
    # Implement the function to visualize the results
    pass
